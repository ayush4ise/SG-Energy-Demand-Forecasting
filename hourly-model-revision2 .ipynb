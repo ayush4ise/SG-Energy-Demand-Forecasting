{
 "cells": [
  {
   "cell_type": "markdown",
   "metadata": {},
   "source": [
    "## Method - 1  \n",
    "1. Use seasonality data from 5 years ago to predict.\n",
    "2. Train the LinReg model for data from 5 years ago. \n",
    "3. Use known GDP to predict yearly demand for the year."
   ]
  },
  {
   "cell_type": "code",
   "execution_count": 1,
   "metadata": {},
   "outputs": [
    {
     "data": {
      "text/html": [
       "<div>\n",
       "<style scoped>\n",
       "    .dataframe tbody tr th:only-of-type {\n",
       "        vertical-align: middle;\n",
       "    }\n",
       "\n",
       "    .dataframe tbody tr th {\n",
       "        vertical-align: top;\n",
       "    }\n",
       "\n",
       "    .dataframe thead th {\n",
       "        text-align: right;\n",
       "    }\n",
       "</style>\n",
       "<table border=\"1\" class=\"dataframe\">\n",
       "  <thead>\n",
       "    <tr style=\"text-align: right;\">\n",
       "      <th></th>\n",
       "      <th>Total Yearly Demand</th>\n",
       "      <th>GDP (in current billion US$)</th>\n",
       "    </tr>\n",
       "    <tr>\n",
       "      <th>Year</th>\n",
       "      <th></th>\n",
       "      <th></th>\n",
       "    </tr>\n",
       "  </thead>\n",
       "  <tbody>\n",
       "    <tr>\n",
       "      <th>2004</th>\n",
       "      <td>3.648262e+07</td>\n",
       "      <td>115.033570</td>\n",
       "    </tr>\n",
       "    <tr>\n",
       "      <th>2005</th>\n",
       "      <td>3.802066e+07</td>\n",
       "      <td>127.807810</td>\n",
       "    </tr>\n",
       "    <tr>\n",
       "      <th>2006</th>\n",
       "      <td>3.935926e+07</td>\n",
       "      <td>148.627255</td>\n",
       "    </tr>\n",
       "    <tr>\n",
       "      <th>2007</th>\n",
       "      <td>4.173424e+07</td>\n",
       "      <td>180.941741</td>\n",
       "    </tr>\n",
       "    <tr>\n",
       "      <th>2008</th>\n",
       "      <td>4.130738e+07</td>\n",
       "      <td>193.617346</td>\n",
       "    </tr>\n",
       "  </tbody>\n",
       "</table>\n",
       "</div>"
      ],
      "text/plain": [
       "      Total Yearly Demand  GDP (in current billion US$)\n",
       "Year                                                   \n",
       "2004         3.648262e+07                    115.033570\n",
       "2005         3.802066e+07                    127.807810\n",
       "2006         3.935926e+07                    148.627255\n",
       "2007         4.173424e+07                    180.941741\n",
       "2008         4.130738e+07                    193.617346"
      ]
     },
     "execution_count": 1,
     "metadata": {},
     "output_type": "execute_result"
    }
   ],
   "source": [
    "import pandas as pd\n",
    "\n",
    "# The data is corrected for MWh here\n",
    "data = pd.read_excel(\"data\\hourly-revision-data\\Total Yearly Demand.xlsx\", index_col = 0)\n",
    "data.head()"
   ]
  },
  {
   "cell_type": "code",
   "execution_count": 2,
   "metadata": {},
   "outputs": [],
   "source": [
    "from sklearn.linear_model import LinearRegression\n",
    "\n",
    "# calculating MAPE without sklearn\n",
    "import numpy as np\n",
    "\n",
    "def MAPE(y_true, y_pred):\n",
    "    y_true, y_pred = np.array(y_true), np.array(y_pred)\n",
    "    return np.mean(np.abs((y_true - y_pred) / y_true)) * 100\n",
    "\n",
    "# Function defining the input seasonality\n",
    "###############################################################################\n",
    "############# WE ARE USING THE UPDATED SEASONALITY INDEXES ####################\n",
    "###############################################################################\n",
    "def input_seasonality(year):\n",
    "    # Monthly seasonality\n",
    "    monthly = pd.read_excel('data/hourly-revision-data/MonthlySI.xlsx', index_col=0)\n",
    "    monthly = monthly[year]\n",
    "\n",
    "    # Hourly seasonalit\n",
    "    hourly = pd.read_excel('data/hourly-revision-data/HourlySI.xlsx', sheet_name=str(year), header=[0,1], index_col=0)\n",
    "\n",
    "    return hourly, monthly\n",
    "\n",
    "# function to make predictions\n",
    "def prediction_with_gdp(year:int, series):\n",
    "    # Linear Regression Fitting\n",
    "    demandgdp = pd.read_excel(\"data\\hourly-revision-data\\Total Yearly Demand.xlsx\", index_col=0)\n",
    "    demandgdp.columns = ['demand','gdp']\n",
    "\n",
    "    ######################################################################\n",
    "    ############### USING DATA FOR LINREG FROM 5 YEARS AGO ###############    \n",
    "    X_fit, y_fit = demandgdp.loc[2004:year-5].gdp, demandgdp.loc[2004:year-5].demand\n",
    "    ######################################################################\n",
    "\n",
    "    linreg = LinearRegression()\n",
    "    linreg.fit(X_fit.values.reshape(-1,1),y_fit.values.reshape(-1,1))\n",
    "\n",
    "    forecastyearly = int(linreg.predict([[demandgdp.loc[year].gdp]]))\n",
    "    forecasted = [forecastyearly/(365*24) for i in range(365*24)]\n",
    "\n",
    "    # Seasonality adjustment \n",
    "    ######################################################################\n",
    "    ############# USING SEASONALTIY INDEXES FROM 5 YEARS AGO #############\n",
    "    hourly, monthly = input_seasonality(year - 5)\n",
    "    ######################################################################\n",
    "\n",
    "    for i in range(len(series)):\n",
    "        i_sh = hourly.xs([series.index[i].strftime('%B'), series.index[i].strftime('%A')], axis=1, level=[0,1]).loc[series.index[i].strftime('%H:%M')].values[0]\n",
    "        i_sm = monthly.loc[series.index[i].strftime('%B')]\n",
    "        forecasted[i] = forecasted[i] * i_sh * i_sm\n",
    "\n",
    "    return pd.DataFrame({'Original': list(series.iloc[:365*24].value), 'Forecast': forecasted}, index=series.index[:365*24])# .to_excel(f'ModelRevision_GDPModel[Forecast {year}].xlsx')\n",
    "    "
   ]
  },
  {
   "cell_type": "code",
   "execution_count": 3,
   "metadata": {},
   "outputs": [],
   "source": [
    "from hourly_revision_utils_ts import hourlytimeseries\n",
    "inputseries = hourlytimeseries(2018,2018,'system')\n",
    "forecasts = prediction_with_gdp(2018, inputseries)"
   ]
  },
  {
   "cell_type": "code",
   "execution_count": 4,
   "metadata": {},
   "outputs": [
    {
     "data": {
      "text/plain": [
       "5.128668063170858"
      ]
     },
     "execution_count": 4,
     "metadata": {},
     "output_type": "execute_result"
    }
   ],
   "source": [
    "MAPE(forecasts['Original'], forecasts['Forecast'])"
   ]
  },
  {
   "cell_type": "code",
   "execution_count": 5,
   "metadata": {},
   "outputs": [
    {
     "data": {
      "text/plain": [
       "5.46777111595436"
      ]
     },
     "execution_count": 5,
     "metadata": {},
     "output_type": "execute_result"
    }
   ],
   "source": [
    "inputseries = hourlytimeseries(2017,2017,'system')\n",
    "forecasts = prediction_with_gdp(2017, inputseries)\n",
    "MAPE(forecasts['Original'], forecasts['Forecast'])"
   ]
  },
  {
   "cell_type": "code",
   "execution_count": 6,
   "metadata": {},
   "outputs": [
    {
     "data": {
      "text/plain": [
       "5.619257132250321"
      ]
     },
     "execution_count": 6,
     "metadata": {},
     "output_type": "execute_result"
    }
   ],
   "source": [
    "inputseries = hourlytimeseries(2019,2019,'system')\n",
    "forecasts = prediction_with_gdp(2019, inputseries)\n",
    "MAPE(forecasts['Original'], forecasts['Forecast'])"
   ]
  },
  {
   "cell_type": "markdown",
   "metadata": {},
   "source": [
    "## Method - 2\n",
    "1. Use seasonality data from 5 years ago to predict.\n",
    "2. Use GDP data from 5 years ago to predict yearly demand for the next year.\n",
    "\n",
    "Source- [here](https://www.imf.org/en/Publications/WEO/weo-database/2013/October/weo-report?c=576,&s=NGDPD,&sy=2004&ey=2018&ssm=0&scsm=1&scc=0&ssd=1&ssc=0&sic=0&sort=country&ds=.&br=1)"
   ]
  },
  {
   "cell_type": "code",
   "execution_count": 7,
   "metadata": {},
   "outputs": [],
   "source": [
    "# function to make predictions\n",
    "def prediction_with_forecasted_gdp(year:int, series, demandgdp):\n",
    "    # Linear Regression Fitting\n",
    "    demandgdp.columns = ['gdp','demand']\n",
    "\n",
    "    ######################################################################\n",
    "    ############### USING DATA FOR LINREG FROM 5 YEARS AGO ###############    \n",
    "    X_fit, y_fit = demandgdp.loc[2004:year-5].gdp, demandgdp.loc[2004:year-5].demand\n",
    "    ######################################################################\n",
    "\n",
    "    linreg = LinearRegression()\n",
    "    linreg.fit(X_fit.values.reshape(-1,1),y_fit.values.reshape(-1,1))\n",
    "\n",
    "    # print model summary\n",
    "    print(f'Intercept: {linreg.intercept_}')\n",
    "    print(f'Coefficient: {linreg.coef_}')\n",
    "    print(f'R^2: {linreg.score(X_fit.values.reshape(-1,1),y_fit.values.reshape(-1,1))}')\n",
    "    print(f'R: {np.sqrt(linreg.score(X_fit.values.reshape(-1,1),y_fit.values.reshape(-1,1)))}')\n",
    "\n",
    "    forecastyearly = int(linreg.predict([[demandgdp.loc[year].gdp]]))\n",
    "    forecasted = [forecastyearly/(365*24) for i in range(365*24)]\n",
    "\n",
    "    # Seasonality adjustment \n",
    "    ######################################################################\n",
    "    ############# USING SEASONALTIY INDEXES FROM 5 YEARS AGO #############\n",
    "    hourly, monthly = input_seasonality(year - 5)\n",
    "    ######################################################################\n",
    "    try:\n",
    "        for i in range(len(series)):\n",
    "            i_sh = hourly.xs([series.index[i].strftime('%B'), series.index[i].strftime('%A')], axis=1, level=[0,1]).loc[series.index[i].strftime('%H:%M')].values[0]\n",
    "            i_sm = monthly.loc[series.index[i].strftime('%B')]\n",
    "            forecasted[i] = forecasted[i] * i_sh * i_sm\n",
    "    except:\n",
    "        forecasted = [forecastyearly/(366*24) for i in range(366*24)]\n",
    "        for i in range(len(series)):\n",
    "            i_sh = hourly.xs([series.index[i].strftime('%B'), series.index[i].strftime('%A')], axis=1, level=[0,1]).loc[series.index[i].strftime('%H:%M')].values[0]\n",
    "            i_sm = monthly.loc[series.index[i].strftime('%B')]\n",
    "            forecasted[i] = forecasted[i] * i_sh * i_sm\n",
    "\n",
    "    return pd.DataFrame({'Original': list(series.value), 'Forecast': forecasted}, index=series.index)# .to_excel(f'ModelRevision_GDPModel[Forecast {year}].xlsx')\n",
    "    "
   ]
  },
  {
   "cell_type": "markdown",
   "metadata": {},
   "source": [
    "2018 forecast from 2014 report"
   ]
  },
  {
   "cell_type": "code",
   "execution_count": 8,
   "metadata": {},
   "outputs": [],
   "source": [
    "report2014 = pd.read_excel('data/Model Revision/WEO_Data_Oct14.xlsx')\n",
    "report2014.drop(columns=['Country', 'Subject Descriptor', 'Units', 'Scale', 'Country/Series-specific Notes', 'Estimates Start After'], inplace=True)\n",
    "report2014.dropna(inplace=True)\n",
    "report2014 = report2014.transpose()\n",
    "report2014.columns = ['GDP']\n",
    "report2014['Energy'] = data['Total Yearly Demand'].loc[report2014.index]"
   ]
  },
  {
   "cell_type": "code",
   "execution_count": 9,
   "metadata": {},
   "outputs": [
    {
     "name": "stdout",
     "output_type": "stream",
     "text": [
      "Intercept: [30554988.95100892]\n",
      "Coefficient: [[57839.63313991]]\n",
      "R^2: 0.9793676726542911\n",
      "R: 0.989630068588405\n",
      "MAPE:  5.460854118686638\n"
     ]
    }
   ],
   "source": [
    "inputseries = hourlytimeseries(2018,2018,'system')\n",
    "forecasts = prediction_with_forecasted_gdp(2018, inputseries, report2014)\n",
    "print('MAPE: ',MAPE(forecasts['Original'], forecasts['Forecast']))\n",
    "forecasts.to_excel('data/hourly-revision-data/Forecasts/GDPModel_Method2[Forecast 2018].xlsx')"
   ]
  },
  {
   "cell_type": "code",
   "execution_count": 10,
   "metadata": {},
   "outputs": [
    {
     "name": "stdout",
     "output_type": "stream",
     "text": [
      "                            OLS Regression Results                            \n",
      "==============================================================================\n",
      "Dep. Variable:                 demand   R-squared:                       0.979\n",
      "Model:                            OLS   Adj. R-squared:                  0.977\n",
      "Method:                 Least Squares   F-statistic:                     379.7\n",
      "Date:                Fri, 29 Mar 2024   Prob (F-statistic):           5.00e-08\n",
      "Time:                        11:09:41   Log-Likelihood:                -145.96\n",
      "No. Observations:                  10   AIC:                             295.9\n",
      "Df Residuals:                       8   BIC:                             296.5\n",
      "Df Model:                           1                                         \n",
      "Covariance Type:            nonrobust                                         \n",
      "==============================================================================\n",
      "                 coef    std err          t      P>|t|      [0.025      0.975]\n",
      "------------------------------------------------------------------------------\n",
      "Intercept   3.055e+07   6.36e+05     48.020      0.000    2.91e+07     3.2e+07\n",
      "gdp         5.784e+04   2968.122     19.487      0.000     5.1e+04    6.47e+04\n",
      "==============================================================================\n",
      "Omnibus:                        0.516   Durbin-Watson:                   2.657\n",
      "Prob(Omnibus):                  0.772   Jarque-Bera (JB):                0.524\n",
      "Skew:                           0.204   Prob(JB):                        0.770\n",
      "Kurtosis:                       1.956   Cond. No.                         730.\n",
      "==============================================================================\n",
      "\n",
      "Notes:\n",
      "[1] Standard Errors assume that the covariance matrix of the errors is correctly specified.\n"
     ]
    }
   ],
   "source": [
    "# import package\n",
    "import statsmodels.formula.api as smf \n",
    "\n",
    "# fitting the model \n",
    "model = smf.ols(formula='demand ~ gdp', \n",
    "\t\t\t\tdata=report2014.loc[2004:2013]).fit() \n",
    "\n",
    "# model summary \n",
    "print(model.summary()) "
   ]
  },
  {
   "cell_type": "markdown",
   "metadata": {},
   "source": [
    "2019 forecast from 2015 report"
   ]
  },
  {
   "cell_type": "code",
   "execution_count": 11,
   "metadata": {},
   "outputs": [
    {
     "name": "stdout",
     "output_type": "stream",
     "text": [
      "Intercept: [30457047.3578641]\n",
      "Coefficient: [[58397.36052253]]\n",
      "R^2: 0.9797450493251547\n",
      "R: 0.9898207157486424\n",
      "MAPE:  5.584735278918744\n"
     ]
    }
   ],
   "source": [
    "report2015 = pd.read_excel('data/Model Revision/WEO_Data_Oct15.xlsx')\n",
    "report2015.drop(columns=['Country', 'Subject Descriptor', 'Units', 'Scale', 'Country/Series-specific Notes', 'Estimates Start After'], inplace=True)\n",
    "report2015.dropna(inplace=True)\n",
    "report2015 = report2015.transpose()\n",
    "report2015.columns = ['GDP']\n",
    "report2015['Energy'] = data['Total Yearly Demand'].loc[report2015.index]\n",
    "\n",
    "inputseries = hourlytimeseries(2019,2019,'system')\n",
    "forecasts = prediction_with_forecasted_gdp(2019, inputseries, report2015)\n",
    "print('MAPE: ',MAPE(forecasts['Original'], forecasts['Forecast']))\n",
    "forecasts.to_excel('data/hourly-revision-data/Forecasts/GDPModel_Method2[Forecast 2019].xlsx')"
   ]
  },
  {
   "cell_type": "code",
   "execution_count": 12,
   "metadata": {},
   "outputs": [
    {
     "name": "stdout",
     "output_type": "stream",
     "text": [
      "                            OLS Regression Results                            \n",
      "==============================================================================\n",
      "Dep. Variable:                 demand   R-squared:                       0.980\n",
      "Model:                            OLS   Adj. R-squared:                  0.977\n",
      "Method:                 Least Squares   F-statistic:                     435.3\n",
      "Date:                Fri, 29 Mar 2024   Prob (F-statistic):           6.25e-09\n",
      "Time:                        11:09:58   Log-Likelihood:                -161.38\n",
      "No. Observations:                  11   AIC:                             326.8\n",
      "Df Residuals:                       9   BIC:                             327.6\n",
      "Df Model:                           1                                         \n",
      "Covariance Type:            nonrobust                                         \n",
      "==============================================================================\n",
      "                 coef    std err          t      P>|t|      [0.025      0.975]\n",
      "------------------------------------------------------------------------------\n",
      "Intercept   3.046e+07   6.31e+05     48.255      0.000     2.9e+07    3.19e+07\n",
      "gdp          5.84e+04   2798.859     20.865      0.000    5.21e+04    6.47e+04\n",
      "==============================================================================\n",
      "Omnibus:                        1.360   Durbin-Watson:                   2.550\n",
      "Prob(Omnibus):                  0.507   Jarque-Bera (JB):                0.733\n",
      "Skew:                           0.047   Prob(JB):                        0.693\n",
      "Kurtosis:                       1.739   Cond. No.                         750.\n",
      "==============================================================================\n",
      "\n",
      "Notes:\n",
      "[1] Standard Errors assume that the covariance matrix of the errors is correctly specified.\n"
     ]
    }
   ],
   "source": [
    "# fitting the model \n",
    "model = smf.ols(formula='demand ~ gdp', \n",
    "\t\t\t\tdata=report2015.loc[2004:2014]).fit() \n",
    "\n",
    "# model summary \n",
    "print(model.summary()) "
   ]
  },
  {
   "cell_type": "markdown",
   "metadata": {},
   "source": [
    "2017 forecast from 2013 report"
   ]
  },
  {
   "cell_type": "code",
   "execution_count": 13,
   "metadata": {},
   "outputs": [
    {
     "name": "stdout",
     "output_type": "stream",
     "text": [
      "Intercept: [30085191.06341361]\n",
      "Coefficient: [[61684.83248427]]\n",
      "R^2: 0.9760928309762319\n",
      "R: 0.9879741044056933\n",
      "MAPE:  5.113402099973538\n"
     ]
    }
   ],
   "source": [
    "report2013 = pd.read_excel('data/Model Revision/WEO_Data_Oct13.xlsx')\n",
    "report2013.drop(columns=['Country', 'Subject Descriptor', 'Units', 'Scale', 'Country/Series-specific Notes', 'Estimates Start After'], inplace=True)\n",
    "report2013.dropna(inplace=True)\n",
    "report2013 = report2013.transpose()\n",
    "report2013.columns = ['GDP']\n",
    "report2013['Energy'] = data['Total Yearly Demand'].loc[report2013.index]\n",
    "\n",
    "inputseries = hourlytimeseries(2017,2017,'system')\n",
    "forecasts = prediction_with_forecasted_gdp(2017, inputseries, report2013)\n",
    "print('MAPE: ',MAPE(forecasts['Original'], forecasts['Forecast']))\n",
    "forecasts.to_excel('data/hourly-revision-data/Forecasts/GDPModel_Method2[Forecast 2017].xlsx')"
   ]
  },
  {
   "cell_type": "code",
   "execution_count": 14,
   "metadata": {},
   "outputs": [
    {
     "name": "stdout",
     "output_type": "stream",
     "text": [
      "                            OLS Regression Results                            \n",
      "==============================================================================\n",
      "Dep. Variable:                 demand   R-squared:                       0.976\n",
      "Model:                            OLS   Adj. R-squared:                  0.973\n",
      "Method:                 Least Squares   F-statistic:                     285.8\n",
      "Date:                Fri, 29 Mar 2024   Prob (F-statistic):           6.21e-07\n",
      "Time:                        11:10:17   Log-Likelihood:                -131.41\n",
      "No. Observations:                   9   AIC:                             266.8\n",
      "Df Residuals:                       7   BIC:                             267.2\n",
      "Df Model:                           1                                         \n",
      "Covariance Type:            nonrobust                                         \n",
      "==============================================================================\n",
      "                 coef    std err          t      P>|t|      [0.025      0.975]\n",
      "------------------------------------------------------------------------------\n",
      "Intercept   3.009e+07   7.24e+05     41.576      0.000    2.84e+07    3.18e+07\n",
      "gdp         6.168e+04   3648.782     16.906      0.000    5.31e+04    7.03e+04\n",
      "==============================================================================\n",
      "Omnibus:                        1.519   Durbin-Watson:                   2.718\n",
      "Prob(Omnibus):                  0.468   Jarque-Bera (JB):                0.727\n",
      "Skew:                          -0.138   Prob(JB):                        0.695\n",
      "Kurtosis:                       1.635   Cond. No.                         715.\n",
      "==============================================================================\n",
      "\n",
      "Notes:\n",
      "[1] Standard Errors assume that the covariance matrix of the errors is correctly specified.\n"
     ]
    }
   ],
   "source": [
    "# fitting the model \n",
    "model = smf.ols(formula='demand ~ gdp', \n",
    "\t\t\t\tdata=report2013.loc[2004:2012]).fit() \n",
    "\n",
    "# model summary \n",
    "print(model.summary()) "
   ]
  },
  {
   "cell_type": "markdown",
   "metadata": {},
   "source": [
    "2020 forecast from 2016 report"
   ]
  },
  {
   "cell_type": "code",
   "execution_count": 15,
   "metadata": {},
   "outputs": [
    {
     "name": "stdout",
     "output_type": "stream",
     "text": [
      "Intercept: [29912407.34859338]\n",
      "Coefficient: [[61859.2932725]]\n",
      "R^2: 0.9632628646401199\n",
      "R: 0.9814595583314271\n",
      "MAPE:  6.0322491610035796\n"
     ]
    }
   ],
   "source": [
    "report2016 = pd.read_excel('data/Model Revision/WEO_Data_Oct16.xlsx')\n",
    "report2016.drop(columns=['Country', 'Subject Descriptor', 'Units', 'Scale', 'Country/Series-specific Notes', 'Estimates Start After'], inplace=True)\n",
    "report2016.dropna(inplace=True)\n",
    "report2016 = report2016.transpose()\n",
    "report2016.columns = ['GDP']\n",
    "report2016['Energy'] = data['Total Yearly Demand'].loc[report2016.index]\n",
    "\n",
    "inputseries = hourlytimeseries(2020,2020,'system')\n",
    "forecasts = prediction_with_forecasted_gdp(2020, inputseries, report2016)\n",
    "print('MAPE: ',MAPE(forecasts['Original'], forecasts['Forecast']))\n",
    "forecasts.to_excel('data/hourly-revision-data/Forecasts/GDPModel_Method2[Forecast 2020].xlsx')"
   ]
  },
  {
   "cell_type": "code",
   "execution_count": 16,
   "metadata": {},
   "outputs": [
    {
     "name": "stdout",
     "output_type": "stream",
     "text": [
      "                            OLS Regression Results                            \n",
      "==============================================================================\n",
      "Dep. Variable:                 demand   R-squared:                       0.963\n",
      "Model:                            OLS   Adj. R-squared:                  0.960\n",
      "Method:                 Least Squares   F-statistic:                     262.2\n",
      "Date:                Fri, 29 Mar 2024   Prob (F-statistic):           1.67e-08\n",
      "Time:                        11:10:38   Log-Likelihood:                -180.45\n",
      "No. Observations:                  12   AIC:                             364.9\n",
      "Df Residuals:                      10   BIC:                             365.9\n",
      "Df Model:                           1                                         \n",
      "Covariance Type:            nonrobust                                         \n",
      "==============================================================================\n",
      "                 coef    std err          t      P>|t|      [0.025      0.975]\n",
      "------------------------------------------------------------------------------\n",
      "Intercept   2.991e+07   8.84e+05     33.838      0.000    2.79e+07    3.19e+07\n",
      "gdp         6.186e+04   3820.192     16.193      0.000    5.33e+04    7.04e+04\n",
      "==============================================================================\n",
      "Omnibus:                        2.741   Durbin-Watson:                   1.465\n",
      "Prob(Omnibus):                  0.254   Jarque-Bera (JB):                0.926\n",
      "Skew:                           0.658   Prob(JB):                        0.629\n",
      "Kurtosis:                       3.344   Cond. No.                         788.\n",
      "==============================================================================\n",
      "\n",
      "Notes:\n",
      "[1] Standard Errors assume that the covariance matrix of the errors is correctly specified.\n"
     ]
    }
   ],
   "source": [
    "# fitting the model\n",
    "model = smf.ols(formula='demand ~ gdp', \n",
    "                data=report2016.loc[2004:2015]).fit()\n",
    "\n",
    "# model summary\n",
    "print(model.summary())"
   ]
  },
  {
   "cell_type": "markdown",
   "metadata": {},
   "source": [
    "2021 forecast from 2017 report"
   ]
  },
  {
   "cell_type": "code",
   "execution_count": 17,
   "metadata": {},
   "outputs": [
    {
     "name": "stdout",
     "output_type": "stream",
     "text": [
      "Intercept: [29475457.39060476]\n",
      "Coefficient: [[64578.4238463]]\n",
      "R^2: 0.9453971965229523\n",
      "R: 0.9723153791455488\n",
      "MAPE:  6.868543754857469\n"
     ]
    }
   ],
   "source": [
    "report2017 = pd.read_excel('data/Model Revision/WEO_Data_Oct17.xlsx')\n",
    "report2017.drop(columns=['Country', 'Subject Descriptor', 'Units', 'Scale', 'Country/Series-specific Notes', 'Estimates Start After'], inplace=True)\n",
    "report2017.dropna(inplace=True)\n",
    "report2017 = report2017.transpose()\n",
    "report2017.columns = ['GDP']\n",
    "report2017['Energy'] = data['Total Yearly Demand'].loc[report2017.index]\n",
    "\n",
    "inputseries = hourlytimeseries(2021,2021,'system')\n",
    "forecasts = prediction_with_forecasted_gdp(2021, inputseries, report2017)\n",
    "print('MAPE: ',MAPE(forecasts['Original'], forecasts['Forecast']))\n",
    "forecasts.to_excel('data/hourly-revision-data/Forecasts/GDPModel_Method2[Forecast 2021].xlsx')"
   ]
  },
  {
   "cell_type": "code",
   "execution_count": 18,
   "metadata": {},
   "outputs": [
    {
     "name": "stdout",
     "output_type": "stream",
     "text": [
      "                            OLS Regression Results                            \n",
      "==============================================================================\n",
      "Dep. Variable:                 demand   R-squared:                       0.945\n",
      "Model:                            OLS   Adj. R-squared:                  0.940\n",
      "Method:                 Least Squares   F-statistic:                     190.5\n",
      "Date:                Fri, 29 Mar 2024   Prob (F-statistic):           2.73e-08\n",
      "Time:                        11:10:53   Log-Likelihood:                -198.94\n",
      "No. Observations:                  13   AIC:                             401.9\n",
      "Df Residuals:                      11   BIC:                             403.0\n",
      "Df Model:                           1                                         \n",
      "Covariance Type:            nonrobust                                         \n",
      "==============================================================================\n",
      "                 coef    std err          t      P>|t|      [0.025      0.975]\n",
      "------------------------------------------------------------------------------\n",
      "Intercept   2.948e+07   1.11e+06     26.478      0.000     2.7e+07    3.19e+07\n",
      "gdp         6.458e+04   4679.413     13.801      0.000    5.43e+04    7.49e+04\n",
      "==============================================================================\n",
      "Omnibus:                        2.478   Durbin-Watson:                   0.902\n",
      "Prob(Omnibus):                  0.290   Jarque-Bera (JB):                0.919\n",
      "Skew:                           0.638   Prob(JB):                        0.632\n",
      "Kurtosis:                       3.257   Cond. No.                         820.\n",
      "==============================================================================\n",
      "\n",
      "Notes:\n",
      "[1] Standard Errors assume that the covariance matrix of the errors is correctly specified.\n"
     ]
    }
   ],
   "source": [
    "# fitting the model\n",
    "model = smf.ols(formula='demand ~ gdp', \n",
    "                data=report2017.loc[2004:2016]).fit()\n",
    "\n",
    "# model summary\n",
    "print(model.summary())"
   ]
  },
  {
   "cell_type": "markdown",
   "metadata": {},
   "source": [
    "2022 forecast from 2018 report"
   ]
  },
  {
   "cell_type": "code",
   "execution_count": 19,
   "metadata": {},
   "outputs": [
    {
     "name": "stdout",
     "output_type": "stream",
     "text": [
      "Intercept: [29382914.51286875]\n",
      "Coefficient: [[64794.70244437]]\n",
      "R^2: 0.9611607243909346\n",
      "R: 0.9803880478621384\n",
      "MAPE:  4.349607126192993\n"
     ]
    }
   ],
   "source": [
    "report2018 = pd.read_excel('data/Model Revision/WEO_Data_Oct18.xlsx')\n",
    "report2018.drop(columns=['Country', 'Subject Descriptor', 'Units', 'Scale', 'Country/Series-specific Notes', 'Estimates Start After'], inplace=True)\n",
    "report2018.dropna(inplace=True)\n",
    "report2018 = report2018.transpose()\n",
    "report2018.columns = ['GDP']\n",
    "report2018['Energy'] = data['Total Yearly Demand'].loc[report2018.index[:-1]] # 2023 is not in the demand data\n",
    "\n",
    "inputseries = hourlytimeseries(2022,2022,'system')\n",
    "forecasts = prediction_with_forecasted_gdp(2022, inputseries, report2018)\n",
    "print('MAPE: ',MAPE(forecasts['Original'], forecasts['Forecast']))\n",
    "forecasts.to_excel('data/hourly-revision-data/Forecasts/GDPModel_Method2[Forecast 2022].xlsx')"
   ]
  },
  {
   "cell_type": "code",
   "execution_count": 20,
   "metadata": {},
   "outputs": [
    {
     "name": "stdout",
     "output_type": "stream",
     "text": [
      "                            OLS Regression Results                            \n",
      "==============================================================================\n",
      "Dep. Variable:                 demand   R-squared:                       0.961\n",
      "Model:                            OLS   Adj. R-squared:                  0.958\n",
      "Method:                 Least Squares   F-statistic:                     297.0\n",
      "Date:                Fri, 29 Mar 2024   Prob (F-statistic):           7.88e-10\n",
      "Time:                        11:11:08   Log-Likelihood:                -212.53\n",
      "No. Observations:                  14   AIC:                             429.1\n",
      "Df Residuals:                      12   BIC:                             430.3\n",
      "Df Model:                           1                                         \n",
      "Covariance Type:            nonrobust                                         \n",
      "==============================================================================\n",
      "                 coef    std err          t      P>|t|      [0.025      0.975]\n",
      "------------------------------------------------------------------------------\n",
      "Intercept   2.938e+07    9.3e+05     31.583      0.000    2.74e+07    3.14e+07\n",
      "gdp         6.479e+04   3759.988     17.233      0.000    5.66e+04     7.3e+04\n",
      "==============================================================================\n",
      "Omnibus:                        0.136   Durbin-Watson:                   0.959\n",
      "Prob(Omnibus):                  0.934   Jarque-Bera (JB):                0.348\n",
      "Skew:                          -0.094   Prob(JB):                        0.840\n",
      "Kurtosis:                       2.251   Cond. No.                         841.\n",
      "==============================================================================\n",
      "\n",
      "Notes:\n",
      "[1] Standard Errors assume that the covariance matrix of the errors is correctly specified.\n"
     ]
    }
   ],
   "source": [
    "# fitting the model\n",
    "model = smf.ols(formula='demand ~ gdp', \n",
    "                data=report2018.loc[2004:2017]).fit()\n",
    "\n",
    "# model summary\n",
    "print(model.summary())"
   ]
  }
 ],
 "metadata": {
  "kernelspec": {
   "display_name": "Python 3",
   "language": "python",
   "name": "python3"
  },
  "language_info": {
   "codemirror_mode": {
    "name": "ipython",
    "version": 3
   },
   "file_extension": ".py",
   "mimetype": "text/x-python",
   "name": "python",
   "nbconvert_exporter": "python",
   "pygments_lexer": "ipython3",
   "version": "3.11.0"
  }
 },
 "nbformat": 4,
 "nbformat_minor": 2
}
