{
 "cells": [
  {
   "cell_type": "code",
   "execution_count": null,
   "metadata": {},
   "outputs": [],
   "source": [
    "# Intializing some parameters \n",
    "# Will be function input parameters mostly\n",
    "\n",
    "alpha = 0.01 # possible values upto 0.99 \n",
    "beta = 0.01 # possible values upto 0.99\n",
    "gamma = 0.01 # possible values upto 0.99, might be redundant if we do not update the SIs\n",
    "\n",
    "\n",
    "period_m = [24,24*7,24*7*365] # a list of seasons, in ascending order"
   ]
  },
  {
   "cell_type": "markdown",
   "metadata": {},
   "source": [
    "The initial seasonalities are:  \n",
    "__ "
   ]
  },
  {
   "cell_type": "markdown",
   "metadata": {},
   "source": [
    "Formulas used-  \n",
    "$L_t = L_{t-1} + B_{t-1} + \\alpha\\left(\\frac{D_t}{S_{t-m_h}^{h}S_{t-m_d}^{d}S_{t-m_m}^{m}} - (L_{t-1} + B_{t-1}) \\right)$\n",
    "\n",
    "$S_t^i = S_{t-m_i}^i + \\gamma^i\\left(\\frac{D_t}{L_t} - S_{t-m_i}^i\\right) \\text{ for } i = h,d, m$\n",
    "\n",
    "$B_t = B_{t-1} + \\beta(L_t - L_{t-1} - B_{t-1})$\n",
    "\n",
    "$F_{t+1} = (L_t + B_t)(S_{t-m_h}^{h}S_{t-m_d}^{d}S_{t-m_m}^{m})$"
   ]
  },
  {
   "cell_type": "code",
   "execution_count": null,
   "metadata": {},
   "outputs": [],
   "source": [
    "def model(series,\n",
    "          alpha:float,\n",
    "          beta:float,\n",
    "          gamma:float,\n",
    "          period_m:list,\n",
    "          future_steps:int): # future_steps = how many periods to forecast\n",
    "    \n",
    "      i_l = [np.mean(series.iloc[0:period_m[-1]])] # Initial level\n",
    "      i_t = [0] # Initial trend\n",
    "      \n",
    "      # i_sh # Initial hourly seasonality []\n",
    "      # i_sd # Initial daily seasonality []\n",
    "      # i_sm # Initial monthly seasonality []\n",
    "\n",
    "      forecast = [] # can change it to numpy array to have forecast dates as indices\n",
    "      for t in range(len(series) + future_steps):\n",
    "            # updating L_t,B_t values (S_t values too maybe)\n",
    "            l_t = (i_l[-1] + i_t[-1]) + alpha * ((series[t]/(i_sh[t%period_m[0]] * i_sd[t%period_m[1]] * i_sm[t%period_m[2]])) - (i_l[-1] + i_t[-1]))\n",
    "\n",
    "            i_t[-1] = i_t[-1] + beta * (l_t - i_l[-1] - i_t[-1])\n",
    "            i_l[-1] = l_t # l_t is l_t-1 now for the next period\n",
    "            # seasonality update equations\n",
    "            # i_sh[t%period_m[0]] = i_sh[t%period_m[0]] + gamma * ((series[t]/l_t) - i_sh[t%period_m[0]])\n",
    "            # i_sd[t%period_m[1]] = i_sd[t%period_m[1]] + gamma * ((series[t]/l_t) - i_sd[t%period_m[1]])\n",
    "            # i_sm[t%period_m[2]] = i_sm[t%period_m[2]] + gamma * ((series[t]/l_t) - i_sm[t%period_m[2]])\n",
    "\n",
    "            if t>= len(series):\n",
    "                  forecast_t = (i_l[-1] + i_t[-1]) * (i_sh[t%period_m[0]] * i_sd[t%period_m[1]] * i_sm[t%period_m[2]])\n",
    "                  forecast.append(forecast_t)\n",
    "\n",
    "      return forecast"
   ]
  }
 ],
 "metadata": {
  "kernelspec": {
   "display_name": "Python 3",
   "language": "python",
   "name": "python3"
  },
  "language_info": {
   "name": "python",
   "version": "3.11.0"
  },
  "orig_nbformat": 4
 },
 "nbformat": 4,
 "nbformat_minor": 2
}
