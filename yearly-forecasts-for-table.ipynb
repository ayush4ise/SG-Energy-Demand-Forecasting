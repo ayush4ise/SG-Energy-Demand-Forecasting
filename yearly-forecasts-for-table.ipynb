{
 "cells": [
  {
   "cell_type": "code",
   "execution_count": 2,
   "metadata": {},
   "outputs": [],
   "source": [
    "from pipelines import *\n",
    "\n",
    "import pandas as pd\n",
    "import numpy as np"
   ]
  },
  {
   "cell_type": "markdown",
   "metadata": {},
   "source": [
    "## ES Calculations"
   ]
  },
  {
   "cell_type": "code",
   "execution_count": 8,
   "metadata": {},
   "outputs": [],
   "source": [
    "known_es = []\n",
    "unknown_es = []\n",
    "\n",
    "for year in range(2018,2023):\n",
    "    known_es.append(ESPipeline(year,known_demand='known'))\n",
    "    unknown_es.append(ESPipeline(year,known_demand='unknown'))"
   ]
  },
  {
   "cell_type": "code",
   "execution_count": 57,
   "metadata": {},
   "outputs": [
    {
     "data": {
      "text/html": [
       "<div>\n",
       "<style scoped>\n",
       "    .dataframe tbody tr th:only-of-type {\n",
       "        vertical-align: middle;\n",
       "    }\n",
       "\n",
       "    .dataframe tbody tr th {\n",
       "        vertical-align: top;\n",
       "    }\n",
       "\n",
       "    .dataframe thead th {\n",
       "        text-align: right;\n",
       "    }\n",
       "</style>\n",
       "<table border=\"1\" class=\"dataframe\">\n",
       "  <thead>\n",
       "    <tr style=\"text-align: right;\">\n",
       "      <th></th>\n",
       "      <th>MAPE</th>\n",
       "      <th>Std APE</th>\n",
       "      <th>Min APE</th>\n",
       "      <th>Max APE</th>\n",
       "    </tr>\n",
       "  </thead>\n",
       "  <tbody>\n",
       "    <tr>\n",
       "      <th>2018</th>\n",
       "      <td>0.032708</td>\n",
       "      <td>0.030170</td>\n",
       "      <td>0.000007</td>\n",
       "      <td>0.173245</td>\n",
       "    </tr>\n",
       "    <tr>\n",
       "      <th>2019</th>\n",
       "      <td>0.033458</td>\n",
       "      <td>0.030340</td>\n",
       "      <td>0.000003</td>\n",
       "      <td>0.160705</td>\n",
       "    </tr>\n",
       "    <tr>\n",
       "      <th>2020</th>\n",
       "      <td>0.053104</td>\n",
       "      <td>0.050824</td>\n",
       "      <td>0.000018</td>\n",
       "      <td>0.301601</td>\n",
       "    </tr>\n",
       "    <tr>\n",
       "      <th>2021</th>\n",
       "      <td>0.034848</td>\n",
       "      <td>0.030019</td>\n",
       "      <td>0.000003</td>\n",
       "      <td>0.186021</td>\n",
       "    </tr>\n",
       "    <tr>\n",
       "      <th>2022</th>\n",
       "      <td>0.035629</td>\n",
       "      <td>0.030571</td>\n",
       "      <td>0.000009</td>\n",
       "      <td>0.185110</td>\n",
       "    </tr>\n",
       "  </tbody>\n",
       "</table>\n",
       "</div>"
      ],
      "text/plain": [
       "          MAPE   Std APE   Min APE   Max APE\n",
       "2018  0.032708  0.030170  0.000007  0.173245\n",
       "2019  0.033458  0.030340  0.000003  0.160705\n",
       "2020  0.053104  0.050824  0.000018  0.301601\n",
       "2021  0.034848  0.030019  0.000003  0.186021\n",
       "2022  0.035629  0.030571  0.000009  0.185110"
      ]
     },
     "execution_count": 57,
     "metadata": {},
     "output_type": "execute_result"
    }
   ],
   "source": [
    "mapes,stds,mins,maxs,indices = [],[],[],[],[]\n",
    "for i in range(5):\n",
    "    test = known_es[i]\n",
    "    test.columns = ['actual','forecast']\n",
    "    apes = test.apply(lambda x: abs(x['actual'] - x['forecast'])/x['actual'], axis=1)\n",
    "    mapes.append(np.mean(apes))\n",
    "    stds.append(np.std(apes))\n",
    "    mins.append(np.min(apes))\n",
    "    maxs.append(np.max(apes))\n",
    "    indices.append(2018+i)\n",
    "\n",
    "pd.DataFrame({'MAPE': mapes, 'Std APE': stds, 'Min APE': mins, 'Max APE': maxs}, index=indices)"
   ]
  },
  {
   "cell_type": "code",
   "execution_count": 58,
   "metadata": {},
   "outputs": [
    {
     "data": {
      "text/html": [
       "<div>\n",
       "<style scoped>\n",
       "    .dataframe tbody tr th:only-of-type {\n",
       "        vertical-align: middle;\n",
       "    }\n",
       "\n",
       "    .dataframe tbody tr th {\n",
       "        vertical-align: top;\n",
       "    }\n",
       "\n",
       "    .dataframe thead th {\n",
       "        text-align: right;\n",
       "    }\n",
       "</style>\n",
       "<table border=\"1\" class=\"dataframe\">\n",
       "  <thead>\n",
       "    <tr style=\"text-align: right;\">\n",
       "      <th></th>\n",
       "      <th>MAPE</th>\n",
       "      <th>Std APE</th>\n",
       "      <th>Min APE</th>\n",
       "      <th>Max APE</th>\n",
       "    </tr>\n",
       "  </thead>\n",
       "  <tbody>\n",
       "    <tr>\n",
       "      <th>2018</th>\n",
       "      <td>0.053033</td>\n",
       "      <td>0.047140</td>\n",
       "      <td>0.000005</td>\n",
       "      <td>0.259611</td>\n",
       "    </tr>\n",
       "    <tr>\n",
       "      <th>2019</th>\n",
       "      <td>0.054686</td>\n",
       "      <td>0.042030</td>\n",
       "      <td>0.000002</td>\n",
       "      <td>0.238981</td>\n",
       "    </tr>\n",
       "    <tr>\n",
       "      <th>2020</th>\n",
       "      <td>0.086946</td>\n",
       "      <td>0.073717</td>\n",
       "      <td>0.000007</td>\n",
       "      <td>0.406127</td>\n",
       "    </tr>\n",
       "    <tr>\n",
       "      <th>2021</th>\n",
       "      <td>0.067245</td>\n",
       "      <td>0.038073</td>\n",
       "      <td>0.000005</td>\n",
       "      <td>0.184929</td>\n",
       "    </tr>\n",
       "    <tr>\n",
       "      <th>2022</th>\n",
       "      <td>0.107200</td>\n",
       "      <td>0.049355</td>\n",
       "      <td>0.000048</td>\n",
       "      <td>0.226279</td>\n",
       "    </tr>\n",
       "  </tbody>\n",
       "</table>\n",
       "</div>"
      ],
      "text/plain": [
       "          MAPE   Std APE   Min APE   Max APE\n",
       "2018  0.053033  0.047140  0.000005  0.259611\n",
       "2019  0.054686  0.042030  0.000002  0.238981\n",
       "2020  0.086946  0.073717  0.000007  0.406127\n",
       "2021  0.067245  0.038073  0.000005  0.184929\n",
       "2022  0.107200  0.049355  0.000048  0.226279"
      ]
     },
     "execution_count": 58,
     "metadata": {},
     "output_type": "execute_result"
    }
   ],
   "source": [
    "mapes,stds,mins,maxs,indices = [],[],[],[],[]\n",
    "for i in range(5):\n",
    "    test = unknown_es[i]\n",
    "    test.columns = ['actual','forecast']\n",
    "    apes = test.apply(lambda x: abs(x['actual'] - x['forecast'])/x['actual'], axis=1)\n",
    "    mapes.append(np.mean(apes))\n",
    "    stds.append(np.std(apes))\n",
    "    mins.append(np.min(apes))\n",
    "    maxs.append(np.max(apes))\n",
    "    indices.append(2018+i)\n",
    "\n",
    "pd.DataFrame({'MAPE': mapes, 'Std APE': stds, 'Min APE': mins, 'Max APE': maxs}, index=indices)"
   ]
  },
  {
   "cell_type": "markdown",
   "metadata": {},
   "source": [
    "## GDP Calculations"
   ]
  },
  {
   "cell_type": "code",
   "execution_count": 80,
   "metadata": {},
   "outputs": [
    {
     "data": {
      "text/html": [
       "<div>\n",
       "<style scoped>\n",
       "    .dataframe tbody tr th:only-of-type {\n",
       "        vertical-align: middle;\n",
       "    }\n",
       "\n",
       "    .dataframe tbody tr th {\n",
       "        vertical-align: top;\n",
       "    }\n",
       "\n",
       "    .dataframe thead th {\n",
       "        text-align: right;\n",
       "    }\n",
       "</style>\n",
       "<table border=\"1\" class=\"dataframe\">\n",
       "  <thead>\n",
       "    <tr style=\"text-align: right;\">\n",
       "      <th></th>\n",
       "      <th>MAPE</th>\n",
       "      <th>Std APE</th>\n",
       "      <th>Min APE</th>\n",
       "      <th>Max APE</th>\n",
       "    </tr>\n",
       "  </thead>\n",
       "  <tbody>\n",
       "    <tr>\n",
       "      <th>GDP</th>\n",
       "      <td>0.057864</td>\n",
       "      <td>0.053861</td>\n",
       "      <td>0.000011</td>\n",
       "      <td>0.267474</td>\n",
       "    </tr>\n",
       "    <tr>\n",
       "      <th>GDP + Population</th>\n",
       "      <td>0.077692</td>\n",
       "      <td>0.040537</td>\n",
       "      <td>0.000029</td>\n",
       "      <td>0.191874</td>\n",
       "    </tr>\n",
       "    <tr>\n",
       "      <th>Population</th>\n",
       "      <td>0.094593</td>\n",
       "      <td>0.045818</td>\n",
       "      <td>0.000064</td>\n",
       "      <td>0.212524</td>\n",
       "    </tr>\n",
       "  </tbody>\n",
       "</table>\n",
       "</div>"
      ],
      "text/plain": [
       "                      MAPE   Std APE   Min APE   Max APE\n",
       "GDP               0.057864  0.053861  0.000011  0.267474\n",
       "GDP + Population  0.077692  0.040537  0.000029  0.191874\n",
       "Population        0.094593  0.045818  0.000064  0.212524"
      ]
     },
     "execution_count": 80,
     "metadata": {},
     "output_type": "execute_result"
    }
   ],
   "source": [
    "model = LinRegPipelines(2022,*LinRegInput())\n",
    "\n",
    "mapes,stds,mins,maxs = [],[],[],[]\n",
    "\n",
    "for model in [model.gdp_model(),model.gdppop_model(),model.pop_model()]:\n",
    "    test = model\n",
    "    test.columns = ['actual','forecast']\n",
    "    apes = test.apply(lambda x: abs(x['actual'] - x['forecast'])/x['actual'], axis=1)\n",
    "    mapes.append(np.mean(apes))\n",
    "    stds.append(np.std(apes))\n",
    "    mins.append(np.min(apes))\n",
    "    maxs.append(np.max(apes))\n",
    "\n",
    "pd.DataFrame({'MAPE': mapes, 'Std APE': stds, 'Min APE': mins, 'Max APE': maxs}, index=['GDP','GDP + Population','Population'])"
   ]
  },
  {
   "cell_type": "markdown",
   "metadata": {},
   "source": [
    "## FBProphet Calculations"
   ]
  },
  {
   "cell_type": "code",
   "execution_count": 93,
   "metadata": {},
   "outputs": [
    {
     "name": "stderr",
     "output_type": "stream",
     "text": [
      "01:32:19 - cmdstanpy - INFO - Chain [1] start processing\n",
      "01:33:32 - cmdstanpy - INFO - Chain [1] done processing\n"
     ]
    },
    {
     "data": {
      "text/html": [
       "<div>\n",
       "<style scoped>\n",
       "    .dataframe tbody tr th:only-of-type {\n",
       "        vertical-align: middle;\n",
       "    }\n",
       "\n",
       "    .dataframe tbody tr th {\n",
       "        vertical-align: top;\n",
       "    }\n",
       "\n",
       "    .dataframe thead th {\n",
       "        text-align: right;\n",
       "    }\n",
       "</style>\n",
       "<table border=\"1\" class=\"dataframe\">\n",
       "  <thead>\n",
       "    <tr style=\"text-align: right;\">\n",
       "      <th></th>\n",
       "      <th>MAPE</th>\n",
       "      <th>Std APE</th>\n",
       "      <th>Min APE</th>\n",
       "      <th>Max APE</th>\n",
       "    </tr>\n",
       "  </thead>\n",
       "  <tbody>\n",
       "    <tr>\n",
       "      <th>1</th>\n",
       "      <td>0.030973</td>\n",
       "      <td>0.025357</td>\n",
       "      <td>0.000005</td>\n",
       "      <td>0.175867</td>\n",
       "    </tr>\n",
       "  </tbody>\n",
       "</table>\n",
       "</div>"
      ],
      "text/plain": [
       "       MAPE   Std APE   Min APE   Max APE\n",
       "1  0.030973  0.025357  0.000005  0.175867"
      ]
     },
     "execution_count": 93,
     "metadata": {},
     "output_type": "execute_result"
    }
   ],
   "source": [
    "test = ProphetPipeline(2022)\n",
    "test.columns = ['actual','forecast']\n",
    "apes = test.apply(lambda x: abs(x['actual'] - x['forecast'])/x['actual'], axis=1)\n",
    "mapes=(np.mean(apes))\n",
    "stds=(np.std(apes))\n",
    "mins=(np.min(apes))\n",
    "maxs=(np.max(apes))\n",
    "\n",
    "pd.DataFrame({'MAPE': mapes, 'Std APE': stds, 'Min APE': mins, 'Max APE': maxs}, index=[1])"
   ]
  },
  {
   "cell_type": "markdown",
   "metadata": {},
   "source": [
    "## NEM Forecast Calculations"
   ]
  },
  {
   "cell_type": "code",
   "execution_count": 99,
   "metadata": {},
   "outputs": [
    {
     "data": {
      "text/html": [
       "<div>\n",
       "<style scoped>\n",
       "    .dataframe tbody tr th:only-of-type {\n",
       "        vertical-align: middle;\n",
       "    }\n",
       "\n",
       "    .dataframe tbody tr th {\n",
       "        vertical-align: top;\n",
       "    }\n",
       "\n",
       "    .dataframe thead th {\n",
       "        text-align: right;\n",
       "    }\n",
       "</style>\n",
       "<table border=\"1\" class=\"dataframe\">\n",
       "  <thead>\n",
       "    <tr style=\"text-align: right;\">\n",
       "      <th></th>\n",
       "      <th>MAPE</th>\n",
       "      <th>Std APE</th>\n",
       "      <th>Min APE</th>\n",
       "      <th>Max APE</th>\n",
       "    </tr>\n",
       "  </thead>\n",
       "  <tbody>\n",
       "    <tr>\n",
       "      <th>1</th>\n",
       "      <td>0.007119</td>\n",
       "      <td>0.005762</td>\n",
       "      <td>0.0</td>\n",
       "      <td>0.053083</td>\n",
       "    </tr>\n",
       "  </tbody>\n",
       "</table>\n",
       "</div>"
      ],
      "text/plain": [
       "       MAPE   Std APE  Min APE   Max APE\n",
       "1  0.007119  0.005762      0.0  0.053083"
      ]
     },
     "execution_count": 99,
     "metadata": {},
     "output_type": "execute_result"
    }
   ],
   "source": [
    "forecast_year = 2022\n",
    "actualseries = timeseries(forecast_year,forecast_year,'nem_actual')\n",
    "forecastseries = timeseries(forecast_year,forecast_year,'nem_forecast')\n",
    "test = pd.DataFrame({'Actual': list(actualseries.value), 'Forecast': list(forecastseries.value)}, index=actualseries.index)\n",
    "\n",
    "test.columns = ['actual','forecast']\n",
    "apes = test.apply(lambda x: abs(x['actual'] - x['forecast'])/x['actual'], axis=1)\n",
    "mapes=(np.mean(apes))\n",
    "stds=(np.std(apes))\n",
    "mins=(np.min(apes))\n",
    "maxs=(np.max(apes))\n",
    "\n",
    "pd.DataFrame({'MAPE': mapes, 'Std APE': stds, 'Min APE': mins, 'Max APE': maxs}, index=[1])"
   ]
  },
  {
   "cell_type": "markdown",
   "metadata": {},
   "source": [
    "## SARIMAX Calculations"
   ]
  },
  {
   "cell_type": "code",
   "execution_count": 4,
   "metadata": {},
   "outputs": [
    {
     "data": {
      "text/html": [
       "<div>\n",
       "<style scoped>\n",
       "    .dataframe tbody tr th:only-of-type {\n",
       "        vertical-align: middle;\n",
       "    }\n",
       "\n",
       "    .dataframe tbody tr th {\n",
       "        vertical-align: top;\n",
       "    }\n",
       "\n",
       "    .dataframe thead th {\n",
       "        text-align: right;\n",
       "    }\n",
       "</style>\n",
       "<table border=\"1\" class=\"dataframe\">\n",
       "  <thead>\n",
       "    <tr style=\"text-align: right;\">\n",
       "      <th></th>\n",
       "      <th>MAPE</th>\n",
       "      <th>Std APE</th>\n",
       "      <th>Min APE</th>\n",
       "      <th>Max APE</th>\n",
       "    </tr>\n",
       "  </thead>\n",
       "  <tbody>\n",
       "    <tr>\n",
       "      <th>1</th>\n",
       "      <td>3.028477e+24</td>\n",
       "      <td>1.684898e+25</td>\n",
       "      <td>0.001186</td>\n",
       "      <td>2.007173e+26</td>\n",
       "    </tr>\n",
       "  </tbody>\n",
       "</table>\n",
       "</div>"
      ],
      "text/plain": [
       "           MAPE       Std APE   Min APE       Max APE\n",
       "1  3.028477e+24  1.684898e+25  0.001186  2.007173e+26"
      ]
     },
     "execution_count": 4,
     "metadata": {},
     "output_type": "execute_result"
    }
   ],
   "source": [
    "test = SARIMAXPipeline(2022)\n",
    "test.columns = ['actual','forecast']\n",
    "apes = test.apply(lambda x: abs(x['actual'] - x['forecast'])/x['actual'], axis=1)\n",
    "mapes=(np.mean(apes))\n",
    "stds=(np.std(apes))\n",
    "mins=(np.min(apes))\n",
    "maxs=(np.max(apes))\n",
    "\n",
    "pd.DataFrame({'MAPE': mapes, 'Std APE': stds, 'Min APE': mins, 'Max APE': maxs}, index=[1])"
   ]
  },
  {
   "cell_type": "markdown",
   "metadata": {},
   "source": [
    "## MSTL+ARIMA Calculations"
   ]
  },
  {
   "cell_type": "code",
   "execution_count": 16,
   "metadata": {},
   "outputs": [
    {
     "data": {
      "text/html": [
       "<div>\n",
       "<style scoped>\n",
       "    .dataframe tbody tr th:only-of-type {\n",
       "        vertical-align: middle;\n",
       "    }\n",
       "\n",
       "    .dataframe tbody tr th {\n",
       "        vertical-align: top;\n",
       "    }\n",
       "\n",
       "    .dataframe thead th {\n",
       "        text-align: right;\n",
       "    }\n",
       "</style>\n",
       "<table border=\"1\" class=\"dataframe\">\n",
       "  <thead>\n",
       "    <tr style=\"text-align: right;\">\n",
       "      <th></th>\n",
       "      <th>MAPE</th>\n",
       "      <th>Std APE</th>\n",
       "      <th>Min APE</th>\n",
       "      <th>Max APE</th>\n",
       "    </tr>\n",
       "  </thead>\n",
       "  <tbody>\n",
       "    <tr>\n",
       "      <th>1</th>\n",
       "      <td>0.036807</td>\n",
       "      <td>0.02627</td>\n",
       "      <td>8.015672e-08</td>\n",
       "      <td>0.191482</td>\n",
       "    </tr>\n",
       "  </tbody>\n",
       "</table>\n",
       "</div>"
      ],
      "text/plain": [
       "       MAPE  Std APE       Min APE   Max APE\n",
       "1  0.036807  0.02627  8.015672e-08  0.191482"
      ]
     },
     "execution_count": 16,
     "metadata": {},
     "output_type": "execute_result"
    }
   ],
   "source": [
    "test = MSTLARIMAPipeline(2021)\n",
    "test.columns = ['actual','forecast']\n",
    "apes = test.apply(lambda x: abs(x['actual'] - x['forecast'])/x['actual'], axis=1)\n",
    "mapes=(np.mean(apes))\n",
    "stds=(np.std(apes))\n",
    "mins=(np.min(apes))\n",
    "maxs=(np.max(apes))\n",
    "\n",
    "pd.DataFrame({'MAPE': mapes, 'Std APE': stds, 'Min APE': mins, 'Max APE': maxs}, index=[1])"
   ]
  }
 ],
 "metadata": {
  "kernelspec": {
   "display_name": "Python 3",
   "language": "python",
   "name": "python3"
  },
  "language_info": {
   "codemirror_mode": {
    "name": "ipython",
    "version": 3
   },
   "file_extension": ".py",
   "mimetype": "text/x-python",
   "name": "python",
   "nbconvert_exporter": "python",
   "pygments_lexer": "ipython3",
   "version": "3.11.0"
  }
 },
 "nbformat": 4,
 "nbformat_minor": 2
}
