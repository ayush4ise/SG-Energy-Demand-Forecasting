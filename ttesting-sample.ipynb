{
 "cells": [
  {
   "attachments": {},
   "cell_type": "markdown",
   "metadata": {},
   "source": [
    "### T-testing Sample\n",
    "\n",
    "We are performing a two sample one-tailed t-test for two instances.\n",
    "It's a bit different from the standard t-test since we are comparing the differences of the mean of the two samples with an estimated value (population mean difference).\n",
    "Normally, comparison with a value is done in one sample t-test."
   ]
  },
  {
   "cell_type": "code",
   "execution_count": 1,
   "metadata": {},
   "outputs": [],
   "source": [
    "import pandas as pd\n",
    "from scipy import stats\n",
    "import math\n",
    "# since the conditions for the t-test we are performing are different from the standard one, we can not use predefined library functions\n",
    "# from scipy.stats import ttest_ind"
   ]
  },
  {
   "cell_type": "code",
   "execution_count": 2,
   "metadata": {},
   "outputs": [],
   "source": [
    "# getting the tables for 2004 and 2005 Half Hourly S.I. data\n",
    "tempdf = pd.read_excel(r\"D:\\Projects\\ntu-vish\\Seasonality Index Data\\Half-Hourly S.I. per Month(Mon-Fri,Weekends).xlsx\", sheet_name = str(2004), index_col=0, header=[0,1])\n",
    "tempdf2 = pd.read_excel(r\"D:\\Projects\\ntu-vish\\Seasonality Index Data\\Half-Hourly S.I. per Month(Mon-Fri,Weekends).xlsx\", sheet_name = str(2005), index_col=0, header=[0,1])    "
   ]
  },
  {
   "cell_type": "code",
   "execution_count": 3,
   "metadata": {},
   "outputs": [
    {
     "name": "stdout",
     "output_type": "stream",
     "text": [
      "     sample 1  sample 2\n",
      "Jan  0.852868  0.839458\n",
      "Feb  0.874962  0.871213\n",
      "Mar  0.850380  0.856242\n",
      "Apr  0.860552  0.873276\n",
      "May  0.877160  0.895788\n",
      "Jun  0.875012  0.877738\n",
      "Jul  0.857285  0.865823\n",
      "Aug  0.883730  0.863383\n",
      "Sep  0.846878  0.850464\n",
      "Oct  0.855944  0.856002\n",
      "Nov  0.872227  0.862493\n",
      "Dec  0.861700  0.888451\n"
     ]
    }
   ],
   "source": [
    "# getting the two samples of year 2004 and 2005 for the half hour- 00:30 Mondays\n",
    "sample1 = tempdf.loc['00:30'].xs('Mon',axis=0,level=1)\n",
    "sample2 = tempdf2.loc['00:30'].xs('Mon',axis=0,level=1)\n",
    "print(pd.DataFrame({'sample 1': sample1,'sample 2': sample2}))"
   ]
  },
  {
   "cell_type": "code",
   "execution_count": 4,
   "metadata": {},
   "outputs": [
    {
     "name": "stdout",
     "output_type": "stream",
     "text": [
      "Mean of sample 1- 0.8640582224878502\n",
      "Mean of sample 2- 0.8666943224023204\n",
      "Difference of means- -0.0026360999144701136\n"
     ]
    }
   ],
   "source": [
    "# mean of samples\n",
    "x1 = sample1.mean()\n",
    "x2 = sample2.mean()\n",
    "print(f'Mean of sample 1- {x1}')\n",
    "print(f'Mean of sample 2- {x2}')\n",
    "print(f'Difference of means- {x1-x2}')"
   ]
  },
  {
   "cell_type": "code",
   "execution_count": 5,
   "metadata": {},
   "outputs": [
    {
     "name": "stdout",
     "output_type": "stream",
     "text": [
      "Degrees of freedom, n1 and n2- 11 , 11\n"
     ]
    }
   ],
   "source": [
    "# number of observations\n",
    "n1 = sample1.size\n",
    "n2 = sample2.size\n",
    "print(f\"Degrees of freedom, n1 and n2- {n1-1} , {n2-1}\")"
   ]
  },
  {
   "cell_type": "code",
   "execution_count": 6,
   "metadata": {},
   "outputs": [
    {
     "name": "stdout",
     "output_type": "stream",
     "text": [
      "Standard deviation of sample 1- 0.012065381800377441\n",
      "Standard deviation of sample 2- 0.01585079556492957\n"
     ]
    }
   ],
   "source": [
    "# standard deviation\n",
    "s1 = sample1.std()\n",
    "s2 = sample2.std()\n",
    "print(f'Standard deviation of sample 1- {s1}')\n",
    "print(f'Standard deviation of sample 2- {s2}')"
   ]
  },
  {
   "attachments": {},
   "cell_type": "markdown",
   "metadata": {},
   "source": [
    "$S_p$ is the pooled standard deviation\n",
    "\n",
    "## $S_p = \\frac{(n1-1)s_1^2 + (n2-1)s_2^2}{n1+n2-2}$\n",
    "\n",
    "s1, s2 - standard deviations of sample 1 and 2 <br>\n",
    "n1, n2 - number of observations in sample 1 and 2"
   ]
  },
  {
   "cell_type": "code",
   "execution_count": 7,
   "metadata": {},
   "outputs": [
    {
     "name": "stdout",
     "output_type": "stream",
     "text": [
      "Pooled standard deviation, Sp = 0.014085829014120364\n"
     ]
    }
   ],
   "source": [
    "sp = math.sqrt(((n1-1)*(s1**2) + (n2-1)*(s2**2))/(n1+n2-2))\n",
    "print(f'Pooled standard deviation, Sp = {sp}')"
   ]
  },
  {
   "cell_type": "code",
   "execution_count": 8,
   "metadata": {},
   "outputs": [],
   "source": [
    "# calculated for the alpha value of 0.05 and degrees of freedom (n1+n2-2)\n",
    "crit_value = stats.t.ppf(1-0.05,n1+n2-2)"
   ]
  },
  {
   "attachments": {},
   "cell_type": "markdown",
   "metadata": {},
   "source": [
    "The t-statistic is calculated as- \n",
    "\n",
    "## $t = \\frac{(\\overline{x_1}-\\overline{x_2}) - (\\mu1 - \\mu2)}{{s_p\\sqrt{\\frac{1}{n_1}+\\frac{1}{n_2}}}}$\n",
    "$\\overline{x_1}, \\overline{x_2}$ - means of sample 1 and 2 <br>\n",
    "$\\mu1, \\mu2$ - estimated difference in mean (population mean difference) <br>"
   ]
  },
  {
   "attachments": {},
   "cell_type": "markdown",
   "metadata": {},
   "source": [
    "#### Left tailed t-test <br>\n",
    "Null Hypothesis: $\\mu1 - \\mu2$ >= population mean difference <br>\n",
    "Alternate Hypothesis: $\\mu1 - \\mu2$ < population mean difference\n",
    "\n",
    "If the obtained t-stastistic value < critical value, ***reject the null*** hypothesis.\n",
    "\n",
    "(Note- the critical value and t-stastitic value will be negative for left-tailed test)"
   ]
  },
  {
   "cell_type": "code",
   "execution_count": 9,
   "metadata": {},
   "outputs": [
    {
     "name": "stdout",
     "output_type": "stream",
     "text": [
      "Reject Null\n"
     ]
    }
   ],
   "source": [
    "# left tailed t-test\n",
    "# popmean > 0 (0.015)\n",
    "popmean = 0.015\n",
    "t = ((x1-x2)-popmean)/(sp*math.sqrt((1/n1)+(1/n2)))\n",
    "if t > -1*crit_value:\n",
    "    print('Do not reject Null')\n",
    "else:\n",
    "    print('Reject Null')"
   ]
  },
  {
   "attachments": {},
   "cell_type": "markdown",
   "metadata": {},
   "source": [
    "#### Right tailed t-test <br>\n",
    "Null Hypothesis: $\\mu1 - \\mu2$ <= -population mean difference <br>\n",
    "Alternate Hypothesis: $\\mu1 - \\mu2$ > -population mean difference\n",
    "\n",
    "If the obtained t-stastistic value > critical value, ***reject the null*** hypothesis.\n",
    "\n",
    "(Note- the critical value and t-stastitic value will be positive for left-tailed test)"
   ]
  },
  {
   "cell_type": "code",
   "execution_count": 10,
   "metadata": {},
   "outputs": [
    {
     "name": "stdout",
     "output_type": "stream",
     "text": [
      "Reject Null\n"
     ]
    }
   ],
   "source": [
    "# right tailed t-test\n",
    "# popmean < 0\n",
    "popmean = -0.015\n",
    "t = ((x1-x2)-popmean)/(sp*math.sqrt((1/n1)+(1/n2)))\n",
    "if t < crit_value:\n",
    "    print('Do not reject Null')\n",
    "else:\n",
    "    print('Reject Null')\n",
    "\n",
    "###############################\n",
    "# The obtained results are-\n",
    "# the difference between the mean of both samples is in the interval (-0.015,0.015) with a certainity of 95%\n",
    "###############################"
   ]
  },
  {
   "attachments": {},
   "cell_type": "markdown",
   "metadata": {},
   "source": [
    "Our goal is to get both the null hypothesis rejected for a given population mean difference value, so that we obtain the following result with 95%-\n",
    "\n",
    "-(population mean difference) < $\\mu1 - \\mu2$ < (population mean difference)"
   ]
  }
 ],
 "metadata": {
  "kernelspec": {
   "display_name": "Python 3",
   "language": "python",
   "name": "python3"
  },
  "language_info": {
   "codemirror_mode": {
    "name": "ipython",
    "version": 3
   },
   "file_extension": ".py",
   "mimetype": "text/x-python",
   "name": "python",
   "nbconvert_exporter": "python",
   "pygments_lexer": "ipython3",
   "version": "3.11.0"
  },
  "orig_nbformat": 4
 },
 "nbformat": 4,
 "nbformat_minor": 2
}
