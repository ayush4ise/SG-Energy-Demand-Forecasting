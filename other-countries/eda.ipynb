{
 "cells": [
  {
   "cell_type": "code",
   "execution_count": 1,
   "metadata": {},
   "outputs": [],
   "source": [
    "import pandas as pd\n",
    "import numpy as np"
   ]
  },
  {
   "cell_type": "code",
   "execution_count": 2,
   "metadata": {},
   "outputs": [
    {
     "data": {
      "text/html": [
       "<div>\n",
       "<style scoped>\n",
       "    .dataframe tbody tr th:only-of-type {\n",
       "        vertical-align: middle;\n",
       "    }\n",
       "\n",
       "    .dataframe tbody tr th {\n",
       "        vertical-align: top;\n",
       "    }\n",
       "\n",
       "    .dataframe thead th {\n",
       "        text-align: right;\n",
       "    }\n",
       "</style>\n",
       "<table border=\"1\" class=\"dataframe\">\n",
       "  <thead>\n",
       "    <tr style=\"text-align: right;\">\n",
       "      <th></th>\n",
       "      <th>utc_timestamp</th>\n",
       "      <th>cet_cest_timestamp</th>\n",
       "      <th>GB_UKM_load_actual_entsoe_transparency</th>\n",
       "    </tr>\n",
       "  </thead>\n",
       "  <tbody>\n",
       "    <tr>\n",
       "      <th>0</th>\n",
       "      <td>2014-12-31T23:00:00Z</td>\n",
       "      <td>2015-01-01T00:00:00+0100</td>\n",
       "      <td>NaN</td>\n",
       "    </tr>\n",
       "    <tr>\n",
       "      <th>1</th>\n",
       "      <td>2014-12-31T23:30:00Z</td>\n",
       "      <td>2015-01-01T00:30:00+0100</td>\n",
       "      <td>NaN</td>\n",
       "    </tr>\n",
       "    <tr>\n",
       "      <th>2</th>\n",
       "      <td>2015-01-01T00:00:00Z</td>\n",
       "      <td>2015-01-01T01:00:00+0100</td>\n",
       "      <td>NaN</td>\n",
       "    </tr>\n",
       "    <tr>\n",
       "      <th>3</th>\n",
       "      <td>2015-01-01T00:30:00Z</td>\n",
       "      <td>2015-01-01T01:30:00+0100</td>\n",
       "      <td>27607.0</td>\n",
       "    </tr>\n",
       "    <tr>\n",
       "      <th>4</th>\n",
       "      <td>2015-01-01T01:00:00Z</td>\n",
       "      <td>2015-01-01T02:00:00+0100</td>\n",
       "      <td>28358.0</td>\n",
       "    </tr>\n",
       "  </tbody>\n",
       "</table>\n",
       "</div>"
      ],
      "text/plain": [
       "          utc_timestamp        cet_cest_timestamp  \\\n",
       "0  2014-12-31T23:00:00Z  2015-01-01T00:00:00+0100   \n",
       "1  2014-12-31T23:30:00Z  2015-01-01T00:30:00+0100   \n",
       "2  2015-01-01T00:00:00Z  2015-01-01T01:00:00+0100   \n",
       "3  2015-01-01T00:30:00Z  2015-01-01T01:30:00+0100   \n",
       "4  2015-01-01T01:00:00Z  2015-01-01T02:00:00+0100   \n",
       "\n",
       "   GB_UKM_load_actual_entsoe_transparency  \n",
       "0                                     NaN  \n",
       "1                                     NaN  \n",
       "2                                     NaN  \n",
       "3                                 27607.0  \n",
       "4                                 28358.0  "
      ]
     },
     "execution_count": 2,
     "metadata": {},
     "output_type": "execute_result"
    }
   ],
   "source": [
    "data = pd.read_csv('data/time_series_30min_singleindex_filtered.csv')\n",
    "data.head()"
   ]
  },
  {
   "cell_type": "code",
   "execution_count": 3,
   "metadata": {},
   "outputs": [],
   "source": [
    "data = data.dropna()"
   ]
  },
  {
   "cell_type": "code",
   "execution_count": 4,
   "metadata": {},
   "outputs": [
    {
     "data": {
      "text/html": [
       "<div>\n",
       "<style scoped>\n",
       "    .dataframe tbody tr th:only-of-type {\n",
       "        vertical-align: middle;\n",
       "    }\n",
       "\n",
       "    .dataframe tbody tr th {\n",
       "        vertical-align: top;\n",
       "    }\n",
       "\n",
       "    .dataframe thead th {\n",
       "        text-align: right;\n",
       "    }\n",
       "</style>\n",
       "<table border=\"1\" class=\"dataframe\">\n",
       "  <thead>\n",
       "    <tr style=\"text-align: right;\">\n",
       "      <th></th>\n",
       "      <th>utc_timestamp</th>\n",
       "      <th>cet_cest_timestamp</th>\n",
       "      <th>GB_UKM_load_actual_entsoe_transparency</th>\n",
       "      <th>year</th>\n",
       "    </tr>\n",
       "  </thead>\n",
       "  <tbody>\n",
       "    <tr>\n",
       "      <th>3</th>\n",
       "      <td>2015-01-01T00:30:00Z</td>\n",
       "      <td>2015-01-01T01:30:00+0100</td>\n",
       "      <td>27607.0</td>\n",
       "      <td>2015</td>\n",
       "    </tr>\n",
       "    <tr>\n",
       "      <th>4</th>\n",
       "      <td>2015-01-01T01:00:00Z</td>\n",
       "      <td>2015-01-01T02:00:00+0100</td>\n",
       "      <td>28358.0</td>\n",
       "      <td>2015</td>\n",
       "    </tr>\n",
       "    <tr>\n",
       "      <th>5</th>\n",
       "      <td>2015-01-01T01:30:00Z</td>\n",
       "      <td>2015-01-01T02:30:00+0100</td>\n",
       "      <td>27538.0</td>\n",
       "      <td>2015</td>\n",
       "    </tr>\n",
       "    <tr>\n",
       "      <th>6</th>\n",
       "      <td>2015-01-01T02:00:00Z</td>\n",
       "      <td>2015-01-01T03:00:00+0100</td>\n",
       "      <td>26063.0</td>\n",
       "      <td>2015</td>\n",
       "    </tr>\n",
       "    <tr>\n",
       "      <th>7</th>\n",
       "      <td>2015-01-01T02:30:00Z</td>\n",
       "      <td>2015-01-01T03:30:00+0100</td>\n",
       "      <td>24357.0</td>\n",
       "      <td>2015</td>\n",
       "    </tr>\n",
       "  </tbody>\n",
       "</table>\n",
       "</div>"
      ],
      "text/plain": [
       "          utc_timestamp        cet_cest_timestamp  \\\n",
       "3  2015-01-01T00:30:00Z  2015-01-01T01:30:00+0100   \n",
       "4  2015-01-01T01:00:00Z  2015-01-01T02:00:00+0100   \n",
       "5  2015-01-01T01:30:00Z  2015-01-01T02:30:00+0100   \n",
       "6  2015-01-01T02:00:00Z  2015-01-01T03:00:00+0100   \n",
       "7  2015-01-01T02:30:00Z  2015-01-01T03:30:00+0100   \n",
       "\n",
       "   GB_UKM_load_actual_entsoe_transparency  year  \n",
       "3                                 27607.0  2015  \n",
       "4                                 28358.0  2015  \n",
       "5                                 27538.0  2015  \n",
       "6                                 26063.0  2015  \n",
       "7                                 24357.0  2015  "
      ]
     },
     "execution_count": 4,
     "metadata": {},
     "output_type": "execute_result"
    }
   ],
   "source": [
    "data['year'] = pd.DatetimeIndex(data['utc_timestamp']).year\n",
    "data.head()"
   ]
  },
  {
   "cell_type": "code",
   "execution_count": 5,
   "metadata": {},
   "outputs": [],
   "source": [
    "data = data[data['year'] == 2019]"
   ]
  },
  {
   "cell_type": "code",
   "execution_count": 6,
   "metadata": {},
   "outputs": [
    {
     "data": {
      "text/plain": [
       "607463615.5"
      ]
     },
     "execution_count": 6,
     "metadata": {},
     "output_type": "execute_result"
    }
   ],
   "source": [
    "data['GB_UKM_load_actual_entsoe_transparency'].sum()"
   ]
  },
  {
   "cell_type": "code",
   "execution_count": 7,
   "metadata": {},
   "outputs": [
    {
     "name": "stderr",
     "output_type": "stream",
     "text": [
      "c:\\Python311\\Lib\\site-packages\\openpyxl\\styles\\stylesheet.py:226: UserWarning: Workbook contains no default style, apply openpyxl's default\n",
      "  warn(\"Workbook contains no default style, apply openpyxl's default\")\n"
     ]
    },
    {
     "data": {
      "text/html": [
       "<div>\n",
       "<style scoped>\n",
       "    .dataframe tbody tr th:only-of-type {\n",
       "        vertical-align: middle;\n",
       "    }\n",
       "\n",
       "    .dataframe tbody tr th {\n",
       "        vertical-align: top;\n",
       "    }\n",
       "\n",
       "    .dataframe thead th {\n",
       "        text-align: right;\n",
       "    }\n",
       "</style>\n",
       "<table border=\"1\" class=\"dataframe\">\n",
       "  <thead>\n",
       "    <tr style=\"text-align: right;\">\n",
       "      <th></th>\n",
       "      <th>MeasureItem</th>\n",
       "      <th>DateUTC</th>\n",
       "      <th>DateShort</th>\n",
       "      <th>TimeFrom</th>\n",
       "      <th>TimeTo</th>\n",
       "      <th>CountryCode</th>\n",
       "      <th>Cov_ratio</th>\n",
       "      <th>Value</th>\n",
       "      <th>Value_ScaleTo100</th>\n",
       "      <th>CreateDate</th>\n",
       "      <th>UpdateDate</th>\n",
       "    </tr>\n",
       "  </thead>\n",
       "  <tbody>\n",
       "    <tr>\n",
       "      <th>0</th>\n",
       "      <td>Monthly Hourly Load Values</td>\n",
       "      <td>2019-01-01 00:00:00</td>\n",
       "      <td>2019-01-01</td>\n",
       "      <td>1970-01-01 00:00:00</td>\n",
       "      <td>1970-01-01 01:00:00</td>\n",
       "      <td>AT</td>\n",
       "      <td>100</td>\n",
       "      <td>5852.5</td>\n",
       "      <td>5852.5</td>\n",
       "      <td>2024-05-29 11:37:27.260</td>\n",
       "      <td>2024-05-29 11:37:27.260</td>\n",
       "    </tr>\n",
       "    <tr>\n",
       "      <th>1</th>\n",
       "      <td>Monthly Hourly Load Values</td>\n",
       "      <td>2019-01-01 01:00:00</td>\n",
       "      <td>2019-01-01</td>\n",
       "      <td>1970-01-01 01:00:00</td>\n",
       "      <td>1970-01-01 02:00:00</td>\n",
       "      <td>AT</td>\n",
       "      <td>100</td>\n",
       "      <td>5619.2</td>\n",
       "      <td>5619.2</td>\n",
       "      <td>2024-05-29 11:37:27.260</td>\n",
       "      <td>2024-05-29 11:37:27.260</td>\n",
       "    </tr>\n",
       "    <tr>\n",
       "      <th>2</th>\n",
       "      <td>Monthly Hourly Load Values</td>\n",
       "      <td>2019-01-01 02:00:00</td>\n",
       "      <td>2019-01-01</td>\n",
       "      <td>1970-01-01 02:00:00</td>\n",
       "      <td>1970-01-01 03:00:00</td>\n",
       "      <td>AT</td>\n",
       "      <td>100</td>\n",
       "      <td>5323.9</td>\n",
       "      <td>5323.9</td>\n",
       "      <td>2024-05-29 11:37:27.260</td>\n",
       "      <td>2024-05-29 11:37:27.260</td>\n",
       "    </tr>\n",
       "    <tr>\n",
       "      <th>3</th>\n",
       "      <td>Monthly Hourly Load Values</td>\n",
       "      <td>2019-01-01 03:00:00</td>\n",
       "      <td>2019-01-01</td>\n",
       "      <td>1970-01-01 03:00:00</td>\n",
       "      <td>1970-01-01 04:00:00</td>\n",
       "      <td>AT</td>\n",
       "      <td>100</td>\n",
       "      <td>5273.3</td>\n",
       "      <td>5273.3</td>\n",
       "      <td>2024-05-29 11:37:27.260</td>\n",
       "      <td>2024-05-29 11:37:27.260</td>\n",
       "    </tr>\n",
       "    <tr>\n",
       "      <th>4</th>\n",
       "      <td>Monthly Hourly Load Values</td>\n",
       "      <td>2019-01-01 04:00:00</td>\n",
       "      <td>2019-01-01</td>\n",
       "      <td>1970-01-01 04:00:00</td>\n",
       "      <td>1970-01-01 05:00:00</td>\n",
       "      <td>AT</td>\n",
       "      <td>100</td>\n",
       "      <td>5439.0</td>\n",
       "      <td>5439.0</td>\n",
       "      <td>2024-05-29 11:37:27.260</td>\n",
       "      <td>2024-05-29 11:37:27.260</td>\n",
       "    </tr>\n",
       "  </tbody>\n",
       "</table>\n",
       "</div>"
      ],
      "text/plain": [
       "                  MeasureItem             DateUTC  DateShort  \\\n",
       "0  Monthly Hourly Load Values 2019-01-01 00:00:00 2019-01-01   \n",
       "1  Monthly Hourly Load Values 2019-01-01 01:00:00 2019-01-01   \n",
       "2  Monthly Hourly Load Values 2019-01-01 02:00:00 2019-01-01   \n",
       "3  Monthly Hourly Load Values 2019-01-01 03:00:00 2019-01-01   \n",
       "4  Monthly Hourly Load Values 2019-01-01 04:00:00 2019-01-01   \n",
       "\n",
       "             TimeFrom              TimeTo CountryCode  Cov_ratio   Value  \\\n",
       "0 1970-01-01 00:00:00 1970-01-01 01:00:00          AT        100  5852.5   \n",
       "1 1970-01-01 01:00:00 1970-01-01 02:00:00          AT        100  5619.2   \n",
       "2 1970-01-01 02:00:00 1970-01-01 03:00:00          AT        100  5323.9   \n",
       "3 1970-01-01 03:00:00 1970-01-01 04:00:00          AT        100  5273.3   \n",
       "4 1970-01-01 04:00:00 1970-01-01 05:00:00          AT        100  5439.0   \n",
       "\n",
       "   Value_ScaleTo100              CreateDate              UpdateDate  \n",
       "0            5852.5 2024-05-29 11:37:27.260 2024-05-29 11:37:27.260  \n",
       "1            5619.2 2024-05-29 11:37:27.260 2024-05-29 11:37:27.260  \n",
       "2            5323.9 2024-05-29 11:37:27.260 2024-05-29 11:37:27.260  \n",
       "3            5273.3 2024-05-29 11:37:27.260 2024-05-29 11:37:27.260  \n",
       "4            5439.0 2024-05-29 11:37:27.260 2024-05-29 11:37:27.260  "
      ]
     },
     "execution_count": 7,
     "metadata": {},
     "output_type": "execute_result"
    }
   ],
   "source": [
    "entsou = pd.read_excel('data/monthly_hourly_load_values_2019.xlsx')\n",
    "entsou.head()"
   ]
  },
  {
   "cell_type": "code",
   "execution_count": 8,
   "metadata": {},
   "outputs": [],
   "source": [
    "entsou = entsou[entsou['CountryCode'] == 'GB']"
   ]
  },
  {
   "cell_type": "code",
   "execution_count": 9,
   "metadata": {},
   "outputs": [
    {
     "data": {
      "text/plain": [
       "302685514.5"
      ]
     },
     "execution_count": 9,
     "metadata": {},
     "output_type": "execute_result"
    }
   ],
   "source": [
    "entsou['Value'].sum()"
   ]
  },
  {
   "cell_type": "code",
   "execution_count": 10,
   "metadata": {},
   "outputs": [
    {
     "data": {
      "text/plain": [
       "303731807.75"
      ]
     },
     "execution_count": 10,
     "metadata": {},
     "output_type": "execute_result"
    }
   ],
   "source": [
    "data['GB_UKM_load_actual_entsoe_transparency'].sum()/2"
   ]
  }
 ],
 "metadata": {
  "kernelspec": {
   "display_name": "Python 3",
   "language": "python",
   "name": "python3"
  },
  "language_info": {
   "codemirror_mode": {
    "name": "ipython",
    "version": 3
   },
   "file_extension": ".py",
   "mimetype": "text/x-python",
   "name": "python",
   "nbconvert_exporter": "python",
   "pygments_lexer": "ipython3",
   "version": "3.11.0"
  }
 },
 "nbformat": 4,
 "nbformat_minor": 2
}
