{
 "cells": [
  {
   "cell_type": "markdown",
   "metadata": {},
   "source": [
    "## Method - 1  \n",
    "1. Use seasonality data from 5 years ago to predict.\n",
    "2. Train the LinReg model for data from 5 years ago. \n",
    "3. Use known GDP to predict yearly demand for the year."
   ]
  },
  {
   "cell_type": "code",
   "execution_count": 1,
   "metadata": {},
   "outputs": [
    {
     "data": {
      "text/html": [
       "<div>\n",
       "<style scoped>\n",
       "    .dataframe tbody tr th:only-of-type {\n",
       "        vertical-align: middle;\n",
       "    }\n",
       "\n",
       "    .dataframe tbody tr th {\n",
       "        vertical-align: top;\n",
       "    }\n",
       "\n",
       "    .dataframe thead th {\n",
       "        text-align: right;\n",
       "    }\n",
       "</style>\n",
       "<table border=\"1\" class=\"dataframe\">\n",
       "  <thead>\n",
       "    <tr style=\"text-align: right;\">\n",
       "      <th></th>\n",
       "      <th>Total Yearly Demand</th>\n",
       "      <th>GDP (in current billion US$)</th>\n",
       "    </tr>\n",
       "    <tr>\n",
       "      <th>Year</th>\n",
       "      <th></th>\n",
       "      <th></th>\n",
       "    </tr>\n",
       "  </thead>\n",
       "  <tbody>\n",
       "    <tr>\n",
       "      <th>2004</th>\n",
       "      <td>72965241.86</td>\n",
       "      <td>115.033570</td>\n",
       "    </tr>\n",
       "    <tr>\n",
       "      <th>2005</th>\n",
       "      <td>76041314.04</td>\n",
       "      <td>127.807810</td>\n",
       "    </tr>\n",
       "    <tr>\n",
       "      <th>2006</th>\n",
       "      <td>78718512.90</td>\n",
       "      <td>148.627255</td>\n",
       "    </tr>\n",
       "    <tr>\n",
       "      <th>2007</th>\n",
       "      <td>83468483.06</td>\n",
       "      <td>180.941741</td>\n",
       "    </tr>\n",
       "    <tr>\n",
       "      <th>2008</th>\n",
       "      <td>82614769.39</td>\n",
       "      <td>193.617346</td>\n",
       "    </tr>\n",
       "  </tbody>\n",
       "</table>\n",
       "</div>"
      ],
      "text/plain": [
       "      Total Yearly Demand  GDP (in current billion US$)\n",
       "Year                                                   \n",
       "2004          72965241.86                    115.033570\n",
       "2005          76041314.04                    127.807810\n",
       "2006          78718512.90                    148.627255\n",
       "2007          83468483.06                    180.941741\n",
       "2008          82614769.39                    193.617346"
      ]
     },
     "execution_count": 1,
     "metadata": {},
     "output_type": "execute_result"
    }
   ],
   "source": [
    "import pandas as pd\n",
    "\n",
    "data = pd.read_excel(\"data\\Model Inputs\\Total Yearly Demand.xlsx\", index_col = 0)\n",
    "data.head()"
   ]
  },
  {
   "cell_type": "code",
   "execution_count": 2,
   "metadata": {},
   "outputs": [],
   "source": [
    "from sklearn.linear_model import LinearRegression\n",
    "\n",
    "# calculating MAPE without sklearn\n",
    "import numpy as np\n",
    "\n",
    "def MAPE(y_true, y_pred):\n",
    "    y_true, y_pred = np.array(y_true), np.array(y_pred)\n",
    "    return np.mean(np.abs((y_true - y_pred) / y_true)) * 100\n",
    "\n",
    "# Function defining the input seasonality\n",
    "def input_seasonality(year):\n",
    "    # Monthly seasonality\n",
    "    monthly = pd.read_excel('data/Model Revision/MonthlySI.xlsx', index_col=0)\n",
    "    monthly = monthly[year]\n",
    "\n",
    "    # Hourly seasonalit\n",
    "    hourly = pd.read_excel('data/Model Revision/HourlySI.xlsx', sheet_name=str(year), header=[0,1], index_col=0)\n",
    "\n",
    "    return hourly, monthly\n",
    "\n",
    "# function to make predictions\n",
    "def prediction_with_gdp(year:int, series):\n",
    "    # Linear Regression Fitting\n",
    "    demandgdp = pd.read_excel(\"data\\Model Inputs\\Total Yearly Demand.xlsx\", index_col=0)\n",
    "    demandgdp.columns = ['demand','gdp']\n",
    "\n",
    "    ######################################################################\n",
    "    ############### USING DATA FOR LINREG FROM 5 YEARS AGO ###############    \n",
    "    X_fit, y_fit = demandgdp.loc[2004:year-5].gdp, demandgdp.loc[2004:year-5].demand\n",
    "    ######################################################################\n",
    "\n",
    "    linreg = LinearRegression()\n",
    "    linreg.fit(X_fit.values.reshape(-1,1),y_fit.values.reshape(-1,1))\n",
    "\n",
    "    forecastyearly = int(linreg.predict([[demandgdp.loc[year].gdp]]))\n",
    "    forecasted = [forecastyearly/(365*24) for i in range(365*24)]\n",
    "\n",
    "    # Seasonality adjustment \n",
    "    ######################################################################\n",
    "    ############# USING SEASONALTIY INDEXES FROM 5 YEARS AGO #############\n",
    "    hourly, monthly = input_seasonality(year - 5)\n",
    "    ######################################################################\n",
    "\n",
    "    for i in range(len(series)):\n",
    "        i_sh = hourly.xs([series.index[i].strftime('%B'), series.index[i].strftime('%A')], axis=1, level=[0,1]).loc[series.index[i].strftime('%H:%M')].values[0]\n",
    "        i_sm = monthly.loc[series.index[i].strftime('%B')]\n",
    "        forecasted[i] = forecasted[i] * i_sh * i_sm\n",
    "\n",
    "    return pd.DataFrame({'Original': list(series.iloc[:365*24].value), 'Forecast': forecasted}, index=series.index[:365*24])# .to_excel(f'ModelRevision_GDPModel[Forecast {year}].xlsx')\n",
    "    "
   ]
  },
  {
   "cell_type": "code",
   "execution_count": 3,
   "metadata": {},
   "outputs": [],
   "source": [
    "from utils_ts import hourlytimeseries\n",
    "inputseries = hourlytimeseries(2018,2018,'system')\n",
    "forecasts = prediction_with_gdp(2018, inputseries)"
   ]
  },
  {
   "cell_type": "code",
   "execution_count": 4,
   "metadata": {},
   "outputs": [
    {
     "data": {
      "text/plain": [
       "5.128668063170858"
      ]
     },
     "execution_count": 4,
     "metadata": {},
     "output_type": "execute_result"
    }
   ],
   "source": [
    "MAPE(forecasts['Original'], forecasts['Forecast'])"
   ]
  },
  {
   "cell_type": "code",
   "execution_count": 5,
   "metadata": {},
   "outputs": [
    {
     "data": {
      "text/plain": [
       "5.467770768518753"
      ]
     },
     "execution_count": 5,
     "metadata": {},
     "output_type": "execute_result"
    }
   ],
   "source": [
    "inputseries = hourlytimeseries(2017,2017,'system')\n",
    "forecasts = prediction_with_gdp(2017, inputseries)\n",
    "MAPE(forecasts['Original'], forecasts['Forecast'])"
   ]
  },
  {
   "cell_type": "code",
   "execution_count": 6,
   "metadata": {},
   "outputs": [
    {
     "data": {
      "text/plain": [
       "5.619257132250321"
      ]
     },
     "execution_count": 6,
     "metadata": {},
     "output_type": "execute_result"
    }
   ],
   "source": [
    "inputseries = hourlytimeseries(2019,2019,'system')\n",
    "forecasts = prediction_with_gdp(2019, inputseries)\n",
    "MAPE(forecasts['Original'], forecasts['Forecast'])"
   ]
  },
  {
   "cell_type": "markdown",
   "metadata": {},
   "source": [
    "## Method - 2\n",
    "1. Use seasonality data from 5 years ago to predict.\n",
    "2. Use GDP data from 5 years ago to predict yearly demand for the next year.\n",
    "\n",
    "Source- [here](https://www.imf.org/en/Publications/WEO/weo-database/2013/October/weo-report?c=576,&s=NGDPD,&sy=2004&ey=2018&ssm=0&scsm=1&scc=0&ssd=1&ssc=0&sic=0&sort=country&ds=.&br=1)"
   ]
  },
  {
   "cell_type": "code",
   "execution_count": 7,
   "metadata": {},
   "outputs": [],
   "source": [
    "# function to make predictions\n",
    "def prediction_with_forecasted_gdp(year:int, series, demandgdp):\n",
    "    # Linear Regression Fitting\n",
    "    demandgdp.columns = ['gdp','demand']\n",
    "\n",
    "    ######################################################################\n",
    "    ############### USING DATA FOR LINREG FROM 5 YEARS AGO ###############    \n",
    "    X_fit, y_fit = demandgdp.loc[2004:year-5].gdp, demandgdp.loc[2004:year-5].demand\n",
    "    ######################################################################\n",
    "\n",
    "    linreg = LinearRegression()\n",
    "    linreg.fit(X_fit.values.reshape(-1,1),y_fit.values.reshape(-1,1))\n",
    "\n",
    "    # print model summary\n",
    "    print(f'Intercept: {linreg.intercept_}')\n",
    "    print(f'Coefficient: {linreg.coef_}')\n",
    "    print(f'R^2: {linreg.score(X_fit.values.reshape(-1,1),y_fit.values.reshape(-1,1))}')\n",
    "    print(f'R: {np.sqrt(linreg.score(X_fit.values.reshape(-1,1),y_fit.values.reshape(-1,1)))}')\n",
    "\n",
    "    forecastyearly = int(linreg.predict([[demandgdp.loc[year].gdp]]))\n",
    "    forecasted = [forecastyearly/(365*24) for i in range(365*24)]\n",
    "\n",
    "    # Seasonality adjustment \n",
    "    ######################################################################\n",
    "    ############# USING SEASONALTIY INDEXES FROM 5 YEARS AGO #############\n",
    "    hourly, monthly = input_seasonality(year - 5)\n",
    "    ######################################################################\n",
    "    try:\n",
    "        for i in range(len(series)):\n",
    "            i_sh = hourly.xs([series.index[i].strftime('%B'), series.index[i].strftime('%A')], axis=1, level=[0,1]).loc[series.index[i].strftime('%H:%M')].values[0]\n",
    "            i_sm = monthly.loc[series.index[i].strftime('%B')]\n",
    "            forecasted[i] = forecasted[i] * i_sh * i_sm\n",
    "    except:\n",
    "        forecasted = [forecastyearly/(366*24) for i in range(366*24)]\n",
    "        for i in range(len(series)):\n",
    "            i_sh = hourly.xs([series.index[i].strftime('%B'), series.index[i].strftime('%A')], axis=1, level=[0,1]).loc[series.index[i].strftime('%H:%M')].values[0]\n",
    "            i_sm = monthly.loc[series.index[i].strftime('%B')]\n",
    "            forecasted[i] = forecasted[i] * i_sh * i_sm\n",
    "\n",
    "    return pd.DataFrame({'Original': list(series.value), 'Forecast': forecasted}, index=series.index)# .to_excel(f'ModelRevision_GDPModel[Forecast {year}].xlsx')\n",
    "    "
   ]
  },
  {
   "cell_type": "markdown",
   "metadata": {},
   "source": [
    "### 2018 forecast from 2014 report"
   ]
  },
  {
   "cell_type": "code",
   "execution_count": 8,
   "metadata": {},
   "outputs": [],
   "source": [
    "report2014 = pd.read_excel('data/Model Revision/WEO_Data_Oct14.xlsx')\n",
    "report2014.drop(columns=['Country', 'Subject Descriptor', 'Units', 'Scale', 'Country/Series-specific Notes', 'Estimates Start After'], inplace=True)\n",
    "report2014.dropna(inplace=True)\n",
    "report2014 = report2014.transpose()\n",
    "report2014.columns = ['GDP']\n",
    "report2014['Energy'] = data['Total Yearly Demand'].loc[report2014.index]"
   ]
  },
  {
   "cell_type": "code",
   "execution_count": 9,
   "metadata": {},
   "outputs": [
    {
     "name": "stdout",
     "output_type": "stream",
     "text": [
      "Intercept: [61109977.90201783]\n",
      "Coefficient: [[115679.26627982]]\n",
      "R^2: 0.9793676726542911\n",
      "R: 0.989630068588405\n",
      "MAPE:  5.460853766946334\n"
     ]
    }
   ],
   "source": [
    "inputseries = hourlytimeseries(2018,2018,'system')\n",
    "forecasts = prediction_with_forecasted_gdp(2018, inputseries, report2014)\n",
    "print('MAPE: ',MAPE(forecasts['Original'], forecasts['Forecast']))\n",
    "# forecasts.to_excel('GDPModel_Method2[Forecast 2018].xlsx')"
   ]
  },
  {
   "cell_type": "code",
   "execution_count": 10,
   "metadata": {},
   "outputs": [
    {
     "name": "stdout",
     "output_type": "stream",
     "text": [
      "                            OLS Regression Results                            \n",
      "==============================================================================\n",
      "Dep. Variable:                 demand   R-squared:                       0.979\n",
      "Model:                            OLS   Adj. R-squared:                  0.977\n",
      "Method:                 Least Squares   F-statistic:                     379.7\n",
      "Date:                Fri, 29 Mar 2024   Prob (F-statistic):           5.00e-08\n",
      "Time:                        10:47:32   Log-Likelihood:                -152.89\n",
      "No. Observations:                  10   AIC:                             309.8\n",
      "Df Residuals:                       8   BIC:                             310.4\n",
      "Df Model:                           1                                         \n",
      "Covariance Type:            nonrobust                                         \n",
      "==============================================================================\n",
      "                 coef    std err          t      P>|t|      [0.025      0.975]\n",
      "------------------------------------------------------------------------------\n",
      "Intercept   6.111e+07   1.27e+06     48.020      0.000    5.82e+07     6.4e+07\n",
      "gdp         1.157e+05   5936.244     19.487      0.000    1.02e+05    1.29e+05\n",
      "==============================================================================\n",
      "Omnibus:                        0.516   Durbin-Watson:                   2.657\n",
      "Prob(Omnibus):                  0.772   Jarque-Bera (JB):                0.524\n",
      "Skew:                           0.204   Prob(JB):                        0.770\n",
      "Kurtosis:                       1.956   Cond. No.                         730.\n",
      "==============================================================================\n",
      "\n",
      "Notes:\n",
      "[1] Standard Errors assume that the covariance matrix of the errors is correctly specified.\n"
     ]
    }
   ],
   "source": [
    "# import package\n",
    "import statsmodels.formula.api as smf \n",
    "\n",
    "# fitting the model \n",
    "model = smf.ols(formula='demand ~ gdp', \n",
    "\t\t\t\tdata=report2014.loc[2004:2013]).fit() \n",
    "\n",
    "# model summary \n",
    "print(model.summary()) "
   ]
  },
  {
   "cell_type": "markdown",
   "metadata": {},
   "source": [
    "### 2019 forecast from 2015 report"
   ]
  },
  {
   "cell_type": "code",
   "execution_count": 11,
   "metadata": {},
   "outputs": [
    {
     "name": "stdout",
     "output_type": "stream",
     "text": [
      "Intercept: [60914094.71572819]\n",
      "Coefficient: [[116794.72104506]]\n",
      "R^2: 0.9797450493251547\n",
      "R: 0.9898207157486424\n",
      "MAPE:  5.584734859420379\n"
     ]
    }
   ],
   "source": [
    "report2015 = pd.read_excel('data/Model Revision/WEO_Data_Oct15.xlsx')\n",
    "report2015.drop(columns=['Country', 'Subject Descriptor', 'Units', 'Scale', 'Country/Series-specific Notes', 'Estimates Start After'], inplace=True)\n",
    "report2015.dropna(inplace=True)\n",
    "report2015 = report2015.transpose()\n",
    "report2015.columns = ['GDP']\n",
    "report2015['Energy'] = data['Total Yearly Demand'].loc[report2015.index]\n",
    "\n",
    "inputseries = hourlytimeseries(2019,2019,'system')\n",
    "forecasts = prediction_with_forecasted_gdp(2019, inputseries, report2015)\n",
    "print('MAPE: ',MAPE(forecasts['Original'], forecasts['Forecast']))\n",
    "# forecasts.to_excel('GDPModel_Method2[Forecast 2019].xlsx')"
   ]
  },
  {
   "cell_type": "code",
   "execution_count": 12,
   "metadata": {},
   "outputs": [
    {
     "name": "stdout",
     "output_type": "stream",
     "text": [
      "                            OLS Regression Results                            \n",
      "==============================================================================\n",
      "Dep. Variable:                 demand   R-squared:                       0.980\n",
      "Model:                            OLS   Adj. R-squared:                  0.977\n",
      "Method:                 Least Squares   F-statistic:                     435.3\n",
      "Date:                Fri, 29 Mar 2024   Prob (F-statistic):           6.25e-09\n",
      "Time:                        10:47:44   Log-Likelihood:                -169.01\n",
      "No. Observations:                  11   AIC:                             342.0\n",
      "Df Residuals:                       9   BIC:                             342.8\n",
      "Df Model:                           1                                         \n",
      "Covariance Type:            nonrobust                                         \n",
      "==============================================================================\n",
      "                 coef    std err          t      P>|t|      [0.025      0.975]\n",
      "------------------------------------------------------------------------------\n",
      "Intercept   6.091e+07   1.26e+06     48.255      0.000    5.81e+07    6.38e+07\n",
      "gdp         1.168e+05   5597.718     20.865      0.000    1.04e+05    1.29e+05\n",
      "==============================================================================\n",
      "Omnibus:                        1.360   Durbin-Watson:                   2.550\n",
      "Prob(Omnibus):                  0.507   Jarque-Bera (JB):                0.733\n",
      "Skew:                           0.047   Prob(JB):                        0.693\n",
      "Kurtosis:                       1.739   Cond. No.                         750.\n",
      "==============================================================================\n",
      "\n",
      "Notes:\n",
      "[1] Standard Errors assume that the covariance matrix of the errors is correctly specified.\n"
     ]
    }
   ],
   "source": [
    "# fitting the model \n",
    "model = smf.ols(formula='demand ~ gdp', \n",
    "\t\t\t\tdata=report2015.loc[2004:2014]).fit() \n",
    "\n",
    "# model summary \n",
    "print(model.summary()) "
   ]
  },
  {
   "cell_type": "markdown",
   "metadata": {},
   "source": [
    "### 2017 forecast from 2013 report"
   ]
  },
  {
   "cell_type": "code",
   "execution_count": 13,
   "metadata": {},
   "outputs": [
    {
     "name": "stdout",
     "output_type": "stream",
     "text": [
      "Intercept: [60170382.12682721]\n",
      "Coefficient: [[123369.66496853]]\n",
      "R^2: 0.9760928309762319\n",
      "R: 0.9879741044056933\n",
      "MAPE:  5.113401912109616\n"
     ]
    }
   ],
   "source": [
    "report2013 = pd.read_excel('data/Model Revision/WEO_Data_Oct13.xlsx')\n",
    "report2013.drop(columns=['Country', 'Subject Descriptor', 'Units', 'Scale', 'Country/Series-specific Notes', 'Estimates Start After'], inplace=True)\n",
    "report2013.dropna(inplace=True)\n",
    "report2013 = report2013.transpose()\n",
    "report2013.columns = ['GDP']\n",
    "report2013['Energy'] = data['Total Yearly Demand'].loc[report2013.index]\n",
    "\n",
    "inputseries = hourlytimeseries(2017,2017,'system')\n",
    "forecasts = prediction_with_forecasted_gdp(2017, inputseries, report2013)\n",
    "print('MAPE: ',MAPE(forecasts['Original'], forecasts['Forecast']))\n",
    "# forecasts.to_excel('GDPModel_Method2[Forecast 2017].xlsx')"
   ]
  },
  {
   "cell_type": "code",
   "execution_count": 14,
   "metadata": {},
   "outputs": [
    {
     "name": "stdout",
     "output_type": "stream",
     "text": [
      "                            OLS Regression Results                            \n",
      "==============================================================================\n",
      "Dep. Variable:                 demand   R-squared:                       0.976\n",
      "Model:                            OLS   Adj. R-squared:                  0.973\n",
      "Method:                 Least Squares   F-statistic:                     285.8\n",
      "Date:                Fri, 29 Mar 2024   Prob (F-statistic):           6.21e-07\n",
      "Time:                        10:47:57   Log-Likelihood:                -137.65\n",
      "No. Observations:                   9   AIC:                             279.3\n",
      "Df Residuals:                       7   BIC:                             279.7\n",
      "Df Model:                           1                                         \n",
      "Covariance Type:            nonrobust                                         \n",
      "==============================================================================\n",
      "                 coef    std err          t      P>|t|      [0.025      0.975]\n",
      "------------------------------------------------------------------------------\n",
      "Intercept   6.017e+07   1.45e+06     41.576      0.000    5.67e+07    6.36e+07\n",
      "gdp         1.234e+05   7297.563     16.906      0.000    1.06e+05    1.41e+05\n",
      "==============================================================================\n",
      "Omnibus:                        1.519   Durbin-Watson:                   2.718\n",
      "Prob(Omnibus):                  0.468   Jarque-Bera (JB):                0.727\n",
      "Skew:                          -0.138   Prob(JB):                        0.695\n",
      "Kurtosis:                       1.635   Cond. No.                         715.\n",
      "==============================================================================\n",
      "\n",
      "Notes:\n",
      "[1] Standard Errors assume that the covariance matrix of the errors is correctly specified.\n"
     ]
    }
   ],
   "source": [
    "# fitting the model \n",
    "model = smf.ols(formula='demand ~ gdp', \n",
    "\t\t\t\tdata=report2013.loc[2004:2012]).fit() \n",
    "\n",
    "# model summary \n",
    "print(model.summary()) "
   ]
  },
  {
   "cell_type": "markdown",
   "metadata": {},
   "source": [
    "### 2020 forecast from 2016 report"
   ]
  },
  {
   "cell_type": "code",
   "execution_count": 15,
   "metadata": {},
   "outputs": [
    {
     "name": "stdout",
     "output_type": "stream",
     "text": [
      "Intercept: [59824814.69718675]\n",
      "Coefficient: [[123718.58654499]]\n",
      "R^2: 0.9632628646401199\n",
      "R: 0.9814595583314271\n",
      "MAPE:  6.032248870742882\n"
     ]
    }
   ],
   "source": [
    "report2016 = pd.read_excel('data/Model Revision/WEO_Data_Oct16.xlsx')\n",
    "report2016.drop(columns=['Country', 'Subject Descriptor', 'Units', 'Scale', 'Country/Series-specific Notes', 'Estimates Start After'], inplace=True)\n",
    "report2016.dropna(inplace=True)\n",
    "report2016 = report2016.transpose()\n",
    "report2016.columns = ['GDP']\n",
    "report2016['Energy'] = data['Total Yearly Demand'].loc[report2016.index]\n",
    "\n",
    "inputseries = hourlytimeseries(2020,2020,'system')\n",
    "forecasts = prediction_with_forecasted_gdp(2020, inputseries, report2016)\n",
    "print('MAPE: ',MAPE(forecasts['Original'], forecasts['Forecast']))\n",
    "forecasts.to_excel('GDPModel_Method2[Forecast 2020].xlsx')"
   ]
  },
  {
   "cell_type": "code",
   "execution_count": 16,
   "metadata": {},
   "outputs": [
    {
     "name": "stdout",
     "output_type": "stream",
     "text": [
      "                            OLS Regression Results                            \n",
      "==============================================================================\n",
      "Dep. Variable:                 demand   R-squared:                       0.963\n",
      "Model:                            OLS   Adj. R-squared:                  0.960\n",
      "Method:                 Least Squares   F-statistic:                     262.2\n",
      "Date:                Fri, 29 Mar 2024   Prob (F-statistic):           1.67e-08\n",
      "Time:                        10:48:17   Log-Likelihood:                -188.76\n",
      "No. Observations:                  12   AIC:                             381.5\n",
      "Df Residuals:                      10   BIC:                             382.5\n",
      "Df Model:                           1                                         \n",
      "Covariance Type:            nonrobust                                         \n",
      "==============================================================================\n",
      "                 coef    std err          t      P>|t|      [0.025      0.975]\n",
      "------------------------------------------------------------------------------\n",
      "Intercept   5.982e+07   1.77e+06     33.838      0.000    5.59e+07    6.38e+07\n",
      "gdp         1.237e+05   7640.384     16.193      0.000    1.07e+05    1.41e+05\n",
      "==============================================================================\n",
      "Omnibus:                        2.741   Durbin-Watson:                   1.465\n",
      "Prob(Omnibus):                  0.254   Jarque-Bera (JB):                0.926\n",
      "Skew:                           0.658   Prob(JB):                        0.629\n",
      "Kurtosis:                       3.344   Cond. No.                         788.\n",
      "==============================================================================\n",
      "\n",
      "Notes:\n",
      "[1] Standard Errors assume that the covariance matrix of the errors is correctly specified.\n"
     ]
    }
   ],
   "source": [
    "# fitting the model\n",
    "model = smf.ols(formula='demand ~ gdp', \n",
    "                data=report2016.loc[2004:2015]).fit()\n",
    "\n",
    "# model summary\n",
    "print(model.summary())"
   ]
  },
  {
   "cell_type": "markdown",
   "metadata": {},
   "source": [
    "### 2021 forecast from 2017 report"
   ]
  },
  {
   "cell_type": "code",
   "execution_count": 17,
   "metadata": {},
   "outputs": [
    {
     "name": "stdout",
     "output_type": "stream",
     "text": [
      "Intercept: [58950914.78120953]\n",
      "Coefficient: [[129156.84769259]]\n",
      "R^2: 0.9453971965229523\n",
      "R: 0.9723153791455488\n",
      "MAPE:  6.868543754857466\n"
     ]
    }
   ],
   "source": [
    "report2017 = pd.read_excel('data/Model Revision/WEO_Data_Oct17.xlsx')\n",
    "report2017.drop(columns=['Country', 'Subject Descriptor', 'Units', 'Scale', 'Country/Series-specific Notes', 'Estimates Start After'], inplace=True)\n",
    "report2017.dropna(inplace=True)\n",
    "report2017 = report2017.transpose()\n",
    "report2017.columns = ['GDP']\n",
    "report2017['Energy'] = data['Total Yearly Demand'].loc[report2017.index]\n",
    "\n",
    "inputseries = hourlytimeseries(2021,2021,'system')\n",
    "forecasts = prediction_with_forecasted_gdp(2021, inputseries, report2017)\n",
    "print('MAPE: ',MAPE(forecasts['Original'], forecasts['Forecast']))\n",
    "forecasts.to_excel('GDPModel_Method2[Forecast 2021].xlsx')"
   ]
  },
  {
   "cell_type": "code",
   "execution_count": 18,
   "metadata": {},
   "outputs": [
    {
     "name": "stdout",
     "output_type": "stream",
     "text": [
      "                            OLS Regression Results                            \n",
      "==============================================================================\n",
      "Dep. Variable:                 demand   R-squared:                       0.945\n",
      "Model:                            OLS   Adj. R-squared:                  0.940\n",
      "Method:                 Least Squares   F-statistic:                     190.5\n",
      "Date:                Fri, 29 Mar 2024   Prob (F-statistic):           2.73e-08\n",
      "Time:                        10:48:30   Log-Likelihood:                -207.95\n",
      "No. Observations:                  13   AIC:                             419.9\n",
      "Df Residuals:                      11   BIC:                             421.0\n",
      "Df Model:                           1                                         \n",
      "Covariance Type:            nonrobust                                         \n",
      "==============================================================================\n",
      "                 coef    std err          t      P>|t|      [0.025      0.975]\n",
      "------------------------------------------------------------------------------\n",
      "Intercept   5.895e+07   2.23e+06     26.478      0.000    5.41e+07    6.39e+07\n",
      "gdp         1.292e+05   9358.827     13.801      0.000    1.09e+05     1.5e+05\n",
      "==============================================================================\n",
      "Omnibus:                        2.478   Durbin-Watson:                   0.902\n",
      "Prob(Omnibus):                  0.290   Jarque-Bera (JB):                0.919\n",
      "Skew:                           0.638   Prob(JB):                        0.632\n",
      "Kurtosis:                       3.257   Cond. No.                         820.\n",
      "==============================================================================\n",
      "\n",
      "Notes:\n",
      "[1] Standard Errors assume that the covariance matrix of the errors is correctly specified.\n"
     ]
    }
   ],
   "source": [
    "# fitting the model\n",
    "model = smf.ols(formula='demand ~ gdp', \n",
    "                data=report2017.loc[2004:2016]).fit()\n",
    "\n",
    "# model summary\n",
    "print(model.summary())"
   ]
  },
  {
   "cell_type": "markdown",
   "metadata": {},
   "source": [
    "### 2022 forecast from 2018 report\n"
   ]
  },
  {
   "cell_type": "code",
   "execution_count": 19,
   "metadata": {},
   "outputs": [
    {
     "name": "stdout",
     "output_type": "stream",
     "text": [
      "Intercept: [58765829.02573749]\n",
      "Coefficient: [[129589.40488875]]\n",
      "R^2: 0.9611607243909346\n",
      "R: 0.9803880478621384\n",
      "MAPE:  4.349607126192994\n"
     ]
    }
   ],
   "source": [
    "report2018 = pd.read_excel('data/Model Revision/WEO_Data_Oct18.xlsx')\n",
    "report2018.drop(columns=['Country', 'Subject Descriptor', 'Units', 'Scale', 'Country/Series-specific Notes', 'Estimates Start After'], inplace=True)\n",
    "report2018.dropna(inplace=True)\n",
    "report2018 = report2018.transpose()\n",
    "report2018.columns = ['GDP']\n",
    "report2018['Energy'] = data['Total Yearly Demand'].loc[report2018.index[:-1]] # removing 2023\n",
    "\n",
    "inputseries = hourlytimeseries(2022,2022,'system')\n",
    "forecasts = prediction_with_forecasted_gdp(2022, inputseries, report2018)\n",
    "print('MAPE: ',MAPE(forecasts['Original'], forecasts['Forecast']))\n",
    "forecasts.to_excel('GDPModel_Method2[Forecast 2022].xlsx')"
   ]
  },
  {
   "cell_type": "code",
   "execution_count": 20,
   "metadata": {},
   "outputs": [
    {
     "name": "stdout",
     "output_type": "stream",
     "text": [
      "                            OLS Regression Results                            \n",
      "==============================================================================\n",
      "Dep. Variable:                 demand   R-squared:                       0.961\n",
      "Model:                            OLS   Adj. R-squared:                  0.958\n",
      "Method:                 Least Squares   F-statistic:                     297.0\n",
      "Date:                Fri, 29 Mar 2024   Prob (F-statistic):           7.88e-10\n",
      "Time:                        10:48:44   Log-Likelihood:                -222.24\n",
      "No. Observations:                  14   AIC:                             448.5\n",
      "Df Residuals:                      12   BIC:                             449.8\n",
      "Df Model:                           1                                         \n",
      "Covariance Type:            nonrobust                                         \n",
      "==============================================================================\n",
      "                 coef    std err          t      P>|t|      [0.025      0.975]\n",
      "------------------------------------------------------------------------------\n",
      "Intercept   5.877e+07   1.86e+06     31.583      0.000    5.47e+07    6.28e+07\n",
      "gdp         1.296e+05   7519.975     17.233      0.000    1.13e+05    1.46e+05\n",
      "==============================================================================\n",
      "Omnibus:                        0.136   Durbin-Watson:                   0.959\n",
      "Prob(Omnibus):                  0.934   Jarque-Bera (JB):                0.348\n",
      "Skew:                          -0.094   Prob(JB):                        0.840\n",
      "Kurtosis:                       2.251   Cond. No.                         841.\n",
      "==============================================================================\n",
      "\n",
      "Notes:\n",
      "[1] Standard Errors assume that the covariance matrix of the errors is correctly specified.\n"
     ]
    }
   ],
   "source": [
    "# fitting the model\n",
    "model = smf.ols(formula='demand ~ gdp', \n",
    "                data=report2018.loc[2004:2017]).fit()\n",
    "\n",
    "# model summary\n",
    "print(model.summary())"
   ]
  }
 ],
 "metadata": {
  "kernelspec": {
   "display_name": "Python 3",
   "language": "python",
   "name": "python3"
  },
  "language_info": {
   "codemirror_mode": {
    "name": "ipython",
    "version": 3
   },
   "file_extension": ".py",
   "mimetype": "text/x-python",
   "name": "python",
   "nbconvert_exporter": "python",
   "pygments_lexer": "ipython3",
   "version": "3.11.0"
  }
 },
 "nbformat": 4,
 "nbformat_minor": 2
}
